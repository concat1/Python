{
  "nbformat": 4,
  "nbformat_minor": 0,
  "metadata": {
    "colab": {
      "name": "Случайные события",
      "provenance": []
    },
    "kernelspec": {
      "name": "python3",
      "display_name": "Python 3"
    },
    "language_info": {
      "name": "python"
    }
  },
  "cells": [
    {
      "cell_type": "markdown",
      "source": [
        "Смоделировать игру против лотерейного автомата типа “777”. Игрок платит 1 руб., после чего выпадает случайное целое число, равномерно распределенное от 0 до 999. При некоторых значениях числа игрок получает выигрыш."
      ],
      "metadata": {
        "id": "VXzC9a_63IBw"
      }
    },
    {
      "cell_type": "code",
      "execution_count": null,
      "metadata": {
        "id": "A9jnLfYc5XMN"
      },
      "outputs": [],
      "source": [
        "import numpy as np"
      ]
    },
    {
      "cell_type": "markdown",
      "source": [
        "- Выгодна ли игра игроку?"
      ],
      "metadata": {
        "id": "_1QAuLjV6RAz"
      }
    },
    {
      "cell_type": "code",
      "source": [
        "trials = 1000000   \n",
        "result = 0       \n",
        "results_list = []\n",
        "for i in range(trials):\n",
        "    random_score = np.random.randint(0, 1000)    \n",
        "    if random_score == 999:\n",
        "        results_list.append(100)\n",
        "    elif random_score == 777:\n",
        "        results_list.append(200)\n",
        "    elif random_score == 555:\n",
        "        results_list.append(50)\n",
        "    elif random_score == 333:\n",
        "        results_list.append(15)\n",
        "    elif random_score == 111:\n",
        "        results_list.append(10)\n",
        "    elif random_score % 100 == 77:\n",
        "        results_list.append(5)\n",
        "    elif random_score % 10 == 7:\n",
        "        results_list.append(3)    \n",
        "    elif random_score % 100 == 0:\n",
        "        results_list.append(2)\n",
        "    elif random_score % 10 == 0:\n",
        "        results_list.append(1)\n",
        "    else:\n",
        "        None\n",
        "        result += 1"
      ],
      "metadata": {
        "id": "spJS_zQm6SwT"
      },
      "execution_count": null,
      "outputs": []
    },
    {
      "cell_type": "code",
      "source": [
        "profit = sum(results_list) - trials\n",
        "if profit > 0:\n",
        "    print('Игра выгодна. Выигрыш составляет:', profit, 'руб. c', trials, 'руб.')\n",
        "else:\n",
        "    print('Игра не выгодна. Проигрыш составляет:', profit, 'руб. c', trials, 'руб.')"
      ],
      "metadata": {
        "colab": {
          "base_uri": "https://localhost:8080/"
        },
        "id": "ZNhUBpdDQmpI",
        "outputId": "781d98dc-fd38-42b8-8557-34c73d58ade9"
      },
      "execution_count": null,
      "outputs": [
        {
          "output_type": "stream",
          "name": "stdout",
          "text": [
            "Игра не выгодна. Проигрыш составляет: -201746 руб. c 1000000 руб.\n"
          ]
        }
      ]
    },
    {
      "cell_type": "markdown",
      "source": [
        "- Сколько в среднем приобретает или теряет игрок за одну игру?"
      ],
      "metadata": {
        "id": "Dnv_eyRH6nGI"
      }
    },
    {
      "cell_type": "code",
      "source": [
        "games = 100     \n",
        "profit = 0     \n",
        "profit_list = []\n",
        "for x in range(games):\n",
        "    trials = 5000    \n",
        "    result = 0      \n",
        "    results_list = []\n",
        "    for i in range(trials):\n",
        "        random_score = np.random.randint(0, 1000)   \n",
        "        if random_score == 999:\n",
        "            results_list.append(100)\n",
        "        elif random_score == 777:\n",
        "            results_list.append(200)\n",
        "        elif random_score == 555:\n",
        "            results_list.append(50)\n",
        "        elif random_score == 333:\n",
        "            results_list.append(15)\n",
        "        elif random_score == 111:\n",
        "            results_list.append(10)\n",
        "        elif random_score % 100 == 77:\n",
        "            results_list.append(5)\n",
        "        elif random_score % 10 == 7:\n",
        "            results_list.append(3)        \n",
        "        elif random_score % 100 == 0:\n",
        "            results_list.append(2)\n",
        "        elif random_score % 10 == 0:\n",
        "            results_list.append(1)\n",
        "        else:\n",
        "            results_list.append(0)\n",
        "            result += 1\n",
        "    profit = sum(results_list) - trials\n",
        "    profit_list.append(profit)\n",
        "    profit += 1\n",
        "avarage_profit = round(sum(profit_list) / games)\n",
        "if avarage_profit > 0:\n",
        "    print('Игра, в среднем, выгодна. В среднем выигрыш составляет:', avarage_profit, 'руб. c', trials, 'руб.')\n",
        "else:\n",
        "    print('Игра, в среднем, не выгодна. В среднем проигрыш составляет:', avarage_profit, 'руб. c', trials, 'руб.')"
      ],
      "metadata": {
        "colab": {
          "base_uri": "https://localhost:8080/"
        },
        "id": "SxjuMX_06snS",
        "outputId": "46337e46-a093-47e9-8df2-d3671aa5d4ed"
      },
      "execution_count": null,
      "outputs": [
        {
          "output_type": "stream",
          "name": "stdout",
          "text": [
            "Игра, в среднем, не выгодна. В среднем проигрыш составляет: -973 руб. c 5000 руб.\n"
          ]
        }
      ]
    }
  ]
}