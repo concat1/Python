{
  "nbformat": 4,
  "nbformat_minor": 0,
  "metadata": {
    "colab": {
      "name": "Работа_с_файловой_системой",
      "provenance": []
    },
    "kernelspec": {
      "name": "python3",
      "display_name": "Python 3"
    },
    "language_info": {
      "name": "python"
    }
  },
  "cells": [
    {
      "cell_type": "markdown",
      "source": [
        "Задание 1\n",
        "\n",
        "Переведите содержимое файла purchase_log.txt в словарь purchases вида:\n",
        "{‘1840e0b9d4’: ‘Продукты’, …}"
      ],
      "metadata": {
        "id": "DyNeUdkg1rLB"
      }
    },
    {
      "cell_type": "code",
      "source": [
        "import json"
      ],
      "metadata": {
        "id": "s-wDZKhy9uSL"
      },
      "execution_count": null,
      "outputs": []
    },
    {
      "cell_type": "code",
      "source": [
        "new_dict={}\n",
        "with open('purchase_log.txt', encoding='utf-8') as f :\n",
        "    for line in f:\n",
        "        line = line.strip()\n",
        "        dict_ = json.loads(line)\n",
        "        key=dict_['user_id']\n",
        "        value=dict_['category']\n",
        "        if key!='user_id':\n",
        "            new_dict.setdefault(key,value)"
      ],
      "metadata": {
        "id": "qKrMClOS9xhE"
      },
      "execution_count": null,
      "outputs": []
    },
    {
      "cell_type": "markdown",
      "source": [
        "Задание 2\n",
        "\n",
        "Для каждого user_id в файле visit_log.csv определите третий столбец с категорией покупки (если покупка была, сам файл visit_log.csv изменять не надо).\n",
        "Запишите в файл funnel.csv визиты из файла visit_log.csv, в которых были покупки с указанием категории.\n",
        "\n",
        "Учтите условия на данные:\n",
        "\n",
        "-содержимое purchase_log.txt помещается в оперативную память компьютера\n",
        "\n",
        "-содержимое visit_log.csv - нет; используйте только построчную обработку этого файла"
      ],
      "metadata": {
        "id": "m9mbSQ_2-RiZ"
      }
    },
    {
      "cell_type": "code",
      "source": [
        "with open('visit_log.csv', 'r') as f, open('funnel.csv', 'w') as w_f:\n",
        "    for row in f:\n",
        "        line_list=row.strip().split(',')\n",
        "        if line_list[0] in new_dict.keys():\n",
        "            line_list.append(new_dict[line_list[0]])\n",
        "            add_line=','.join(line_list)\n",
        "        elif line_list[0]=='user_id':\n",
        "            line_list.append('category')\n",
        "            add_line=','.join(line_list)\n",
        "        else:\n",
        "            add_line=','.join(line_list)\n",
        "        w_f.write(add_line+'\\n')"
      ],
      "metadata": {
        "id": "PJ_8q9OZ-Uoc"
      },
      "execution_count": null,
      "outputs": []
    },
    {
      "cell_type": "code",
      "source": [
        "with open('visit_log.csv', 'r') as f:\n",
        "  with open('funnel.csv', 'w') as w_f:\n",
        "    for i in f:\n",
        "      visits = i.strip().split(\",\")\n",
        "      category = dict_.get(visits[0])\n",
        "      if category !=None:\n",
        "        visits.append(category)\n",
        "        w_f.write(','.join(visits))"
      ],
      "metadata": {
        "id": "ApCjJod9AOvN"
      },
      "execution_count": null,
      "outputs": []
    }
  ]
}