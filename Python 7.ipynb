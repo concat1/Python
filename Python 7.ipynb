{
  "nbformat": 4,
  "nbformat_minor": 0,
  "metadata": {
    "colab": {
      "name": "Исключения и обработка ошибок",
      "provenance": []
    },
    "kernelspec": {
      "name": "python3",
      "display_name": "Python 3"
    },
    "language_info": {
      "name": "python"
    }
  },
  "cells": [
    {
      "cell_type": "markdown",
      "source": [
        "Задание 1\n",
        "\n",
        "Печатные газеты использовали свой формат дат для каждого выпуска. Для каждой газеты из списка напишите формат указанной даты для перевода в объект datetime\n",
        "\n",
        "The Moscow Times - Wednesday, October 2, 2002\n",
        "\n",
        "The Guardian - Friday, 11.10.13\n",
        "\n",
        "Daily News - Thursday, 18 August 1977"
      ],
      "metadata": {
        "id": "qh9hLxeMfvvh"
      }
    },
    {
      "cell_type": "code",
      "source": [
        "from datetime import datetime\n",
        "from datetime import timedelta"
      ],
      "metadata": {
        "id": "2ShTcKGxfyBu"
      },
      "execution_count": null,
      "outputs": []
    },
    {
      "cell_type": "code",
      "source": [
        "date_moscow_times = 'Wednesday, October 2, 2002'\n",
        "date_moscow_times_datetime = datetime.strptime(date_moscow_times, '%A, %B %d, %Y')\n",
        "date_moscow_times_datetime, date_moscow_times_datetime.weekday()"
      ],
      "metadata": {
        "colab": {
          "base_uri": "https://localhost:8080/"
        },
        "id": "Y7YlxKaZtjPo",
        "outputId": "3fa68ce5-25af-45a7-d616-f365a3443b61"
      },
      "execution_count": null,
      "outputs": [
        {
          "output_type": "execute_result",
          "data": {
            "text/plain": [
              "(datetime.datetime(2002, 10, 2, 0, 0), 2)"
            ]
          },
          "metadata": {},
          "execution_count": 29
        }
      ]
    },
    {
      "cell_type": "code",
      "source": [
        "date_guardian = 'Friday, 11.10.13'\n",
        "date_guardian_datetime = datetime.strptime(date_guardian, '%A, %d.%m.%y')\n",
        "date_guardian_datetime, date_guardian_datetime.weekday()"
      ],
      "metadata": {
        "colab": {
          "base_uri": "https://localhost:8080/"
        },
        "id": "n839kD0F143I",
        "outputId": "3e8d0667-ec14-46e8-9306-d44ead0d851e"
      },
      "execution_count": null,
      "outputs": [
        {
          "output_type": "execute_result",
          "data": {
            "text/plain": [
              "(datetime.datetime(2013, 10, 11, 0, 0), 4)"
            ]
          },
          "metadata": {},
          "execution_count": 30
        }
      ]
    },
    {
      "cell_type": "code",
      "source": [
        "date_daily_news = 'Thursday, 18 August 1977'\n",
        "date_daily_news_datetime = datetime.strptime(date_daily_news, '%A, %d %B %Y')\n",
        "date_daily_news_datetime, date_daily_news_datetime.weekday()"
      ],
      "metadata": {
        "colab": {
          "base_uri": "https://localhost:8080/"
        },
        "id": "8ou3dEYl2QjR",
        "outputId": "787d5286-b336-4c14-d736-9e96a5b257d0"
      },
      "execution_count": null,
      "outputs": [
        {
          "output_type": "execute_result",
          "data": {
            "text/plain": [
              "(datetime.datetime(1977, 8, 18, 0, 0), 3)"
            ]
          },
          "metadata": {},
          "execution_count": 31
        }
      ]
    },
    {
      "cell_type": "markdown",
      "source": [
        "Задание 2\n",
        "\n",
        "Дан поток дат в формате YYYY-MM-DD, в которых встречаются некорректные значения:\n",
        "stream = [‘2018-04-02’, ‘2018-02-29’, ‘2018-19-02’]\n",
        "\n",
        "Напишите функцию, которая проверяет эти даты на корректность. Т. е. для каждой даты возвращает True (дата корректна) или False (некорректная дата)."
      ],
      "metadata": {
        "id": "65tFGZjgfyfG"
      }
    },
    {
      "cell_type": "code",
      "source": [
        "stream = ['2018-04-02', '2018-02-29', '2018-19-02']"
      ],
      "metadata": {
        "id": "QEAKTAKAfz2S"
      },
      "execution_count": null,
      "outputs": []
    },
    {
      "cell_type": "code",
      "source": [
        "def corr_format(stream_list):\n",
        "    for date in stream_list:\n",
        "        try:\n",
        "            corr_format_date = datetime.strptime(date,'%Y-%m-%d')          \n",
        "        except:\n",
        "            print(False, 'Некорректная дата:', date)         \n",
        "        else:\n",
        "            print(True, 'Дата корректна:', date)"
      ],
      "metadata": {
        "id": "9XzmmHMOow6l"
      },
      "execution_count": null,
      "outputs": []
    },
    {
      "cell_type": "code",
      "source": [
        "corr_format(stream)"
      ],
      "metadata": {
        "colab": {
          "base_uri": "https://localhost:8080/"
        },
        "id": "o2bYa6Wg06fk",
        "outputId": "9598ae56-6bd3-41a7-f2d5-3f19bef3c810"
      },
      "execution_count": null,
      "outputs": [
        {
          "output_type": "stream",
          "name": "stdout",
          "text": [
            "True Дата корректна: 2018-04-02\n",
            "False Некорректная дата: 2018-02-29\n",
            "False Некорректная дата: 2018-19-02\n"
          ]
        }
      ]
    },
    {
      "cell_type": "markdown",
      "source": [
        "Задание 3\n",
        "\n",
        "Напишите функцию date_range, которая возвращает список дат за период от start_date до end_date. Даты должны вводиться в формате YYYY-MM-DD. В случае неверного формата или при start_date > end_date должен возвращаться пустой список."
      ],
      "metadata": {
        "id": "KgmgAN80f0DK"
      }
    },
    {
      "cell_type": "code",
      "source": [
        "from datetime import date, timedelta\n",
        "d1 = date(2021, 8, 1)  \n",
        "d2 = date(2021, 9, 1)  \n",
        "delta = d2 - d1         \n",
        "if delta.days<=0:\n",
        "    print (\"Пустой список\")\n",
        "for i in range(delta.days + 1):\n",
        "    print(d1 + timedelta(i))"
      ],
      "metadata": {
        "colab": {
          "base_uri": "https://localhost:8080/"
        },
        "id": "Kas-ZW-Vf3Dc",
        "outputId": "e5b59a16-104b-4a94-df34-031a53587abf"
      },
      "execution_count": null,
      "outputs": [
        {
          "output_type": "stream",
          "name": "stdout",
          "text": [
            "2021-08-01\n",
            "2021-08-02\n",
            "2021-08-03\n",
            "2021-08-04\n",
            "2021-08-05\n",
            "2021-08-06\n",
            "2021-08-07\n",
            "2021-08-08\n",
            "2021-08-09\n",
            "2021-08-10\n",
            "2021-08-11\n",
            "2021-08-12\n",
            "2021-08-13\n",
            "2021-08-14\n",
            "2021-08-15\n",
            "2021-08-16\n",
            "2021-08-17\n",
            "2021-08-18\n",
            "2021-08-19\n",
            "2021-08-20\n",
            "2021-08-21\n",
            "2021-08-22\n",
            "2021-08-23\n",
            "2021-08-24\n",
            "2021-08-25\n",
            "2021-08-26\n",
            "2021-08-27\n",
            "2021-08-28\n",
            "2021-08-29\n",
            "2021-08-30\n",
            "2021-08-31\n",
            "2021-09-01\n"
          ]
        }
      ]
    },
    {
      "cell_type": "code",
      "source": [
        "def date_rage():\n",
        "    start_date = input('Введите начальную дату: ')\n",
        "    end_date = input('Введите конечную дату: ')\n",
        "    try:\n",
        "        start_date_dt = datetime.strptime(start_date, '%Y-%m-%d')\n",
        "        end_date_dt = datetime.strptime(end_date, '%Y-%m-%d')\n",
        "    except:\n",
        "        return list()\n",
        "    if start_date_dt > end_date_dt:\n",
        "        return list()\n",
        "    date_list = []\n",
        "    current_dt = start_date_dt\n",
        "    while current_dt <= end_date_dt:\n",
        "        date_list.append(current_dt.strftime('%Y-%m-%d'))\n",
        "        current_dt += timedelta(days=1)\n",
        "    return date_list "
      ],
      "metadata": {
        "id": "2OrUM4kw3MD_"
      },
      "execution_count": null,
      "outputs": []
    },
    {
      "cell_type": "code",
      "source": [
        "date_rage()"
      ],
      "metadata": {
        "colab": {
          "base_uri": "https://localhost:8080/"
        },
        "id": "PDQuTd1c3Y_M",
        "outputId": "5a3d6b23-94f4-460c-b7b6-f7282374e906"
      },
      "execution_count": null,
      "outputs": [
        {
          "name": "stdout",
          "output_type": "stream",
          "text": [
            "Введите начальную дату: 2021-08-01\n",
            "Введите конечную дату: 2021-09-01\n"
          ]
        },
        {
          "output_type": "execute_result",
          "data": {
            "text/plain": [
              "['2021-08-01',\n",
              " '2021-08-02',\n",
              " '2021-08-03',\n",
              " '2021-08-04',\n",
              " '2021-08-05',\n",
              " '2021-08-06',\n",
              " '2021-08-07',\n",
              " '2021-08-08',\n",
              " '2021-08-09',\n",
              " '2021-08-10',\n",
              " '2021-08-11',\n",
              " '2021-08-12',\n",
              " '2021-08-13',\n",
              " '2021-08-14',\n",
              " '2021-08-15',\n",
              " '2021-08-16',\n",
              " '2021-08-17',\n",
              " '2021-08-18',\n",
              " '2021-08-19',\n",
              " '2021-08-20',\n",
              " '2021-08-21',\n",
              " '2021-08-22',\n",
              " '2021-08-23',\n",
              " '2021-08-24',\n",
              " '2021-08-25',\n",
              " '2021-08-26',\n",
              " '2021-08-27',\n",
              " '2021-08-28',\n",
              " '2021-08-29',\n",
              " '2021-08-30',\n",
              " '2021-08-31',\n",
              " '2021-09-01']"
            ]
          },
          "metadata": {},
          "execution_count": 36
        }
      ]
    }
  ]
}