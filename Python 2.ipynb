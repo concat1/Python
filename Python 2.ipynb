{
  "nbformat": 4,
  "nbformat_minor": 0,
  "metadata": {
    "colab": {
      "name": "Основы Python",
      "provenance": []
    },
    "kernelspec": {
      "name": "python3",
      "display_name": "Python 3"
    },
    "language_info": {
      "name": "python"
    }
  },
  "cells": [
    {
      "cell_type": "markdown",
      "source": [
        "Задание 1\n",
        '\n"
        "Даны 2 переменных, в которых хранятся строки произвольной длины: phrase_1 и phrase_2.\n",
        "Напишите код, который проверяет какая из этих строк длиннее."
      ],
      "metadata": {
        "id": "AX-LJgNdZQH8"
      }
    },
    {
      "cell_type": "code",
      "source": [
        "name1 = input(\"phrase_1:\")\n",
        "name2 = input(\"phrase_2:\")\n",
        "if len(name1) > len(name2):\n",
        "   print(name1)\n",
        "elif len(name1) < len(name2):\n",
        "   print(name2)\n",
        "elif len(name1) == len(name2):\n",
        "   print('Равны')"
      ],
      "metadata": {
        "colab": {
          "base_uri": "https://localhost:8080/"
        },
        "id": "94zQ4iyDZTWS",
        "outputId": "444f6cb9-43de-4b36-c815-8e3a09ec79a2"
      },
      "execution_count": null,
      "outputs": [
        {
          "output_type": "stream",
          "name": "stdout",
          "text": [
            "phrase_1:'Насколько проще было бы писать программы, если бы не заказчики’\n",
            "phrase_2:'640Кб должно хватить для любых задач. Билл Гейтс (по легенде)'\n",
            "'Насколько проще было бы писать программы, если бы не заказчики’\n"
          ]
        }
      ]
    },
    {
      "cell_type": "code",
      "source": [
        "name1 = input(\"phrase_1:\")\n",
        "name2 = input(\"phrase_2:\")\n",
        "if len(name1) > len(name2):\n",
        "   print(name1)\n",
        "elif len(name1) < len(name2):\n",
        "   print(name2)\n",
        "elif len(name1) == len(name2):\n",
        "   print('Равны')"
      ],
      "metadata": {
        "colab": {
          "base_uri": "https://localhost:8080/"
        },
        "id": "9b_EF9J9ZqzR",
        "outputId": "5d3211d0-65e8-45e8-a08a-b2c0054cd0ba"
      },
      "execution_count": null,
      "outputs": [
        {
          "output_type": "stream",
          "name": "stdout",
          "text": [
            "phrase_1:'640Кб должно хватить для любых задач. Билл Гейтс (по легенде)'\n",
            "phrase_2:'Насколько проще было бы писать программы, если бы не заказчики’\n",
            "'Насколько проще было бы писать программы, если бы не заказчики’\n"
          ]
        }
      ]
    },
    {
      "cell_type": "code",
      "source": [
        "name1 = input(\"phrase_1:\")\n",
        "name2 = input(\"phrase_2:\")\n",
        "if len(name1) > len(name2):\n",
        "   print(name1)\n",
        "elif len(name1) < len(name2):\n",
        "   print(name2)\n",
        "elif len(name1) == len(name2):\n",
        "   print('Равны')"
      ],
      "metadata": {
        "colab": {
          "base_uri": "https://localhost:8080/"
        },
        "id": "jZ2pikrSZ6gH",
        "outputId": "b31d3678-2acb-45ff-925f-b10033b6864a"
      },
      "execution_count": null,
      "outputs": [
        {
          "output_type": "stream",
          "name": "stdout",
          "text": [
            "phrase_1:'Насколько проще было бы писать программы, если бы не заказчики’\n",
            "phrase_2:'Насколько проще было бы писать программы, если бы не заказчики’\n",
            "Равны\n"
          ]
        }
      ]
    },
    {
      "cell_type": "markdown",
      "source": [
        "Задание 2\n",
        '\n"
        "Дана переменная, в которой хранится четырехзначное число (год). Необходимо написать программу, которая выведет, является ли данный год високосным или обычным."
      ],
      "metadata": {
        "id": "qq-cWNHyaJ9-"
      }
    },
    {
      "cell_type": "code",
      "source": [
        "year = int(input('Введите год:'))\n",
        "if (year % 4 == 0) and (year % 100 != 0) or (year % 400 == 0):\n",
        "    print('Високосный год')\n",
        "else:\n",
        "    print('Обычный год')"
      ],
      "metadata": {
        "colab": {
          "base_uri": "https://localhost:8080/"
        },
        "id": "UGb4aKNoaLgA",
        "outputId": "563260b8-6cee-4ad9-9d7c-549182077e83"
      },
      "execution_count": null,
      "outputs": [
        {
          "output_type": "stream",
          "name": "stdout",
          "text": [
            "Введите год:2020\n",
            "Високосный год\n"
          ]
        }
      ]
    },
    {
      "cell_type": "code",
      "source": [
        "year = int(input('Введите год:'))\n",
        "if (year % 4 == 0) and (year % 100 != 0) or (year % 400 == 0):\n",
        "    print('Високосный год')\n",
        "else:\n",
        "    print('Обычный год')"
      ],
      "metadata": {
        "colab": {
          "base_uri": "https://localhost:8080/"
        },
        "id": "N8sabBfKaozl",
        "outputId": "1a6c6755-54c5-47cb-bd58-5746fa155067"
      },
      "execution_count": null,
      "outputs": [
        {
          "output_type": "stream",
          "name": "stdout",
          "text": [
            "Введите год:2019\n",
            "Обычный год\n"
          ]
        }
      ]
    },
    {
      "cell_type": "markdown",
      "source": [
        "Задание 3\n",
        '\n"
        "Необходимо написать программу, которая будет запрашивать у пользователя месяц и дату рождения и выводить соответствующий знак зодиака."
      ],
      "metadata": {
        "id": "PA-Z0zGqauMZ"
      }
    },
    {
      "cell_type": "code",
      "source": [
        "date=int(input(\"Введите день рождения:\"))\n",
        "month=int(input(\"Введите месяц рождения:\"))\n",
        "if (date>=21 and date<=31 and month==3) or( month==4 and date>=1 and date<=19):\n",
        "   print(\"Ваш знак зодиака:Овен\")\n",
        "elif (date>=20 and date<=30 and month==4) or( month==5 and date>=1 and date<=20):\n",
        "   print(\"Ваш знак зодиака:Телец\")\n",
        "elif (date>=21 and date<=31 and month==5) or( month==6 and date>=1 and date<=21):\n",
        "   print(\"Ваш знак зодиака:Близнецы\")\n",
        "elif (date>=22 and date<=30 and month==6) or( month==7 and date>=1 and date<=22):\n",
        "   print(\"Ваш знак зодиака:Рак\")\n",
        "elif (date>=23 and date<=31 and month==7) or( month==8 and date>=1 and date<=22):\n",
        "   print(\"Ваш знак зодиака:Лев\")\n",
        "elif (date>=23 and date<=31 and month==8) or( month==9 and date>=1 and date<=22):\n",
        "   print(\"Ваш знак зодиака:Дева\")\n",
        "elif (date>=23 and date<=30 and month==9) or( month==10 and date>=1 and date<=23):\n",
        "   print(\"Ваш знак зодиака:Весы\")\n",
        "elif (date>=24 and date<=31 and month==10) or( month==11 and date>=1 and date<=22):\n",
        "   print(\"Ваш знак зодиака:Скорпион\")\n",
        "elif (date>=23 and date<=30 and month==11) or( month==12 and date>=1 and date<=21):\n",
        "   print(\"Ваш знак зодиака:Стрелец\")\n",
        "elif (date>=22 and date<=31 and month==12) or( month==1 and date>=1 and date<=20):\n",
        "   print(\"Ваш знак зодиака:Козерог\")\n",
        "elif (date>=21 and date<=31 and month==1) or( month==2 and date>=1 and date<=18):\n",
        "   print(\"Ваш знак зодиака:Водолей\")\n",
        "elif (date>=19 and date<=29 and month==2) or( month==3 and date>=1 and date<=20):\n",
        "   print(\"Ваш знак зодиака:Рыбы\")"
      ],
      "metadata": {
        "colab": {
          "base_uri": "https://localhost:8080/"
        },
        "id": "mdgMiZSGjP54",
        "outputId": "32ead8de-4613-4815-c2e1-aa8bba62ac61"
      },
      "execution_count": null,
      "outputs": [
        {
          "output_type": "stream",
          "name": "stdout",
          "text": [
            "Введите день рождения:29\n",
            "Введите месяц рождения:10\n",
            "Ваш знак зодиака:Скорпион\n"
          ]
        }
      ]
    },
    {
      "cell_type": "markdown",
      "source": [
        "Задание 4\n",
        "Вам нужно написать программу для подбора упаковок по размерам товара. Размеры (ширина, длина, высота) хранятся в переменных (в сантиметрах):\n",
        "\n",
        "Используйте следующие правила:\n",
        "\n",
        "-если каждое из трех измерений менее или равно 15 сантиметрам, то выведите на экран “Коробка №1”;\n",
        '\n"
        "-если хотя бы одно из измерений больше 15 сантиметров, но менее 50 сантиметров, то выводите “Коробка №2”;\n",
        '\n"
        "-если длина товара больше 2 метров, то выводите “Упаковка для лыж”;\n",
        "во всех остальных случаях выводите “Стандартная коробка №3”."
      ],
      "metadata": {
        "id": "8kO-2Rs-gQwL"
      }
    },
    {
      "cell_type": "code",
      "source": [
        "a=int(input('width:'))\n",
        "b=int(input('length:'))\n",
        "c=int(input('height:'))\n",
        "if max(a,b,c) <= 15:\n",
        "  print('Стандартная коробка №1')\n",
        "elif max(a,b,c) < 50:\n",
        "  print('Стандартная коробка №2')\n",
        "elif max(a,b,c) <= 200:\n",
        "  print('Стандартная коробка №3')\n",
        "else:\n",
        "  print('Ищите упаковку для лыж')"
      ],
      "metadata": {
        "colab": {
          "base_uri": "https://localhost:8080/"
        },
        "id": "8hvluinlgT8h",
        "outputId": "1c76eae1-8266-492f-f9a3-0bba088af868"
      },
      "execution_count": null,
      "outputs": [
        {
          "output_type": "stream",
          "name": "stdout",
          "text": [
            "width:15\n",
            "length:50\n",
            "height:15\n",
            "Стандартная коробка №3\n"
          ]
        }
      ]
    },
    {
      "cell_type": "code",
      "source": [
        "a=int(input('width:'))\n",
        "b=int(input('length:'))\n",
        "c=int(input('height:'))\n",
        "if max(a,b,c) <= 15:\n",
        "  print('Стандартная коробка №1')\n",
        "elif max(a,b,c) < 50:\n",
        "  print('Стандартная коробка №2')\n",
        "elif max(a,b,c) <= 200:\n",
        "  print('Стандартная коробка №3')\n",
        "else:\n",
        "  print('Ищите упаковку для лыж')"
      ],
      "metadata": {
        "colab": {
          "base_uri": "https://localhost:8080/"
        },
        "id": "WgCtwlP-h9Z4",
        "outputId": "d4c15e38-83f6-4ba3-fce4-ac0f7a751438"
      },
      "execution_count": null,
      "outputs": [
        {
          "output_type": "stream",
          "name": "stdout",
          "text": [
            "width:45\n",
            "length:205\n",
            "height:45\n",
            "Ищите упаковку для лыж\n"
          ]
        }
      ]
    }
  ]
}
