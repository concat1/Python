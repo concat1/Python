{
  "nbformat": 4,
  "nbformat_minor": 0,
  "metadata": {
    "colab": {
      "name": "Библиотека numpy. Вычислительные задачи",
      "provenance": []
    },
    "kernelspec": {
      "name": "python3",
      "display_name": "Python 3"
    },
    "language_info": {
      "name": "python"
    }
  },
  "cells": [
    {
      "cell_type": "markdown",
      "source": [
        "Задание 1\n",
        "\n",
        "Создайте numpy array с элементами от числа N до 0 (например, для N = 10 это будет array([9, 8, 7, 6, 5, 4, 3, 2, 1, 0]))."
      ],
      "metadata": {
        "id": "UxCWHrfY_Of6"
      }
    },
    {
      "cell_type": "code",
      "source": [
        "import numpy as np"
      ],
      "metadata": {
        "id": "dbBDNDB2_Udb"
      },
      "execution_count": null,
      "outputs": []
    },
    {
      "cell_type": "code",
      "source": [
        "N=int(input())\n",
        "x=np.arange(N-1, -1, -1)\n",
        "print(x)"
      ],
      "metadata": {
        "id": "HAK2uhxZ_pCc"
      },
      "execution_count": null,
      "outputs": []
    },
    {
      "cell_type": "code",
      "source": [
        "\n",
        "n=int(input())\n",
        "print('Результат: {}'.format(np.arange(n-1, -1,-1)))"
      ],
      "metadata": {
        "colab": {
          "base_uri": "https://localhost:8080/"
        },
        "id": "Z9HpTqzvANwq",
        "outputId": "7b63064a-2548-43ca-958c-8292c1520676"
      },
      "execution_count": null,
      "outputs": [
        {
          "output_type": "stream",
          "name": "stdout",
          "text": [
            "10\n",
            "Результат: [9 8 7 6 5 4 3 2 1 0]\n"
          ]
        }
      ]
    },
    {
      "cell_type": "markdown",
      "source": [
        "Задание 2\n",
        "\n",
        "Создайте диагональную матрицу с элементами от N до 0. Посчитайте сумму ее значений на диагонали."
      ],
      "metadata": {
        "id": "Vuae9xRH_Uuy"
      }
    },
    {
      "cell_type": "code",
      "source": [
        "N=int(input())\n",
        "mat=np.diag(np.arange(N-1, -1, -1)) \n",
        "print(mat)"
      ],
      "metadata": {
        "colab": {
          "base_uri": "https://localhost:8080/"
        },
        "id": "JZYT0ZGFA43A",
        "outputId": "2efb4f74-11aa-45c0-e6a4-7e188d01767e"
      },
      "execution_count": null,
      "outputs": [
        {
          "output_type": "stream",
          "name": "stdout",
          "text": [
            "6\n",
            "[[5 0 0 0 0 0]\n",
            " [0 4 0 0 0 0]\n",
            " [0 0 3 0 0 0]\n",
            " [0 0 0 2 0 0]\n",
            " [0 0 0 0 1 0]\n",
            " [0 0 0 0 0 0]]\n"
          ]
        }
      ]
    },
    {
      "cell_type": "code",
      "source": [
        "n=int(input())\n",
        "matrix=np.diag(np.arange(n,0,-1))\n",
        "print('Итог: {}'.format(sum(sum(matrix))))"
      ],
      "metadata": {
        "colab": {
          "base_uri": "https://localhost:8080/"
        },
        "id": "oSRIpDhPBDvJ",
        "outputId": "bf7bf4f7-d0df-4ff6-ecfc-f316cef039da"
      },
      "execution_count": null,
      "outputs": [
        {
          "output_type": "stream",
          "name": "stdout",
          "text": [
            "6\n",
            "Итог: 21\n"
          ]
        }
      ]
    },
    {
      "cell_type": "markdown",
      "source": [
        "Задание 3\n",
        "\n",
        "Решите систему уравнений:\n",
        "\n",
        "4x + 2y + z = 4\n",
        "\n",
        "x + 3y = 12\n",
        "\n",
        "5y + 4z = -3"
      ],
      "metadata": {
        "id": "_qXt55yS_XjB"
      }
    },
    {
      "cell_type": "code",
      "source": [
        "from numpy import linalg"
      ],
      "metadata": {
        "id": "8W0Y9xdkB4k7"
      },
      "execution_count": null,
      "outputs": []
    },
    {
      "cell_type": "code",
      "source": [
        "a=np.array([[4, 2, 1], [1, 3, 0], [0, 5, 4]])\n",
        "b=np.array([4, 12, -3])\n",
        "linalg.solve(a, b)"
      ],
      "metadata": {
        "id": "or2Sufoi_X3o"
      },
      "execution_count": null,
      "outputs": []
    },
    {
      "cell_type": "code",
      "source": [
        "np.allclose( np.dot(a, linalg.solve(a, b)), b )"
      ],
      "metadata": {
        "colab": {
          "base_uri": "https://localhost:8080/"
        },
        "id": "dB9U5OAWB9pH",
        "outputId": "7ddc1049-b258-41c0-e9e3-001831c5b334"
      },
      "execution_count": null,
      "outputs": [
        {
          "output_type": "execute_result",
          "data": {
            "text/plain": [
              "True"
            ]
          },
          "metadata": {},
          "execution_count": 12
        }
      ]
    },
    {
      "cell_type": "markdown",
      "source": [
        "Задание 4\n",
        "\n",
        "Задание и входные данные к нему находятся в материалах занятия (ноутбук Python_9_Numpy.ipynb, раздел “Задача 4 домашнего задания”)"
      ],
      "metadata": {
        "id": "keaeEmtr_YB3"
      }
    },
    {
      "cell_type": "code",
      "source": [
        "from IPython.display import Image\n",
        "Image(\"user_matrix.JPG\")"
      ],
      "metadata": {
        "colab": {
          "base_uri": "https://localhost:8080/",
          "height": 34
        },
        "id": "l_mBFOqm_YND",
        "outputId": "5e6c513c-9f2f-4bed-eb83-dc56026c1236"
      },
      "execution_count": null,
      "outputs": [
        {
          "output_type": "execute_result",
          "data": {
            "text/plain": [
              "<IPython.core.display.Image object>"
            ],
            "image/png": "user_matrix.JPG"
          },
          "metadata": {},
          "execution_count": 18
        }
      ]
    },
    {
      "cell_type": "code",
      "source": [
        "users_stats = np.array(\n",
        "    [\n",
        "        [2, 1, 0, 0, 0, 0],\n",
        "        [1, 1, 2, 1, 0, 0],\n",
        "        [2, 0, 1, 0, 0, 0],\n",
        "        [1, 1, 2, 1, 0, 1],\n",
        "        [0, 0, 1, 2, 0, 0],\n",
        "        [0, 0, 0, 0, 0, 5],\n",
        "        [1, 0, 0, 0, 0, 0],\n",
        "        [0, 1, 1, 0, 0, 0],\n",
        "        [0, 0, 0, 1, 1, 3],\n",
        "        [1, 0, 0, 2, 1, 4]\n",
        "    ], \n",
        "    np.int32\n",
        ")"
      ],
      "metadata": {
        "id": "4VgEKt44C9_p"
      },
      "execution_count": null,
      "outputs": []
    },
    {
      "cell_type": "code",
      "source": [
        "next_user_stats = np.array([0, 1, 2, 0, 0, 0])"
      ],
      "metadata": {
        "id": "KSiLDf7HDCz6"
      },
      "execution_count": null,
      "outputs": []
    },
    {
      "cell_type": "code",
      "source": [
        "muls = np.apply_along_axis(cosine, 1, users_stats, next_user_stats)"
      ],
      "metadata": {
        "id": "Ah1lEWMhFA2M"
      },
      "execution_count": null,
      "outputs": []
    }
  ]
}