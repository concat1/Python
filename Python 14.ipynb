{
  "nbformat": 4,
  "nbformat_minor": 0,
  "metadata": {
    "colab": {
      "name": "Визуализация",
      "provenance": []
    },
    "kernelspec": {
      "name": "python3",
      "display_name": "Python 3"
    },
    "language_info": {
      "name": "python"
    }
  },
  "cells": [
    {
      "cell_type": "markdown",
      "source": [
        "Вам необходимо провести базовый EDA выбранного набора данных.\n",
        "\n",
        "Требования к анализу:\n",
        "\n",
        "- построить не менее 4 визуализаций различных видов;\n",
        "\n",
        "- каждая визуализация должным образом оформлена и читается даже в отрыве от контекста;\n",
        "\n",
        "- по каждой визуализации необходимо написать вывод (какую гипотезу на ее основе можно выдвинуть?)."
      ],
      "metadata": {
        "id": "o7I8qQWfXv7M"
      }
    },
    {
      "cell_type": "code",
      "source": [
        "import matplotlib.pyplot as plt\n",
        "import seaborn as sns\n",
        "import pandas as pd\n",
        "import numpy as np"
      ],
      "metadata": {
        "id": "0yY5x7-I3rmy"
      },
      "execution_count": null,
      "outputs": []
    },
    {
      "cell_type": "markdown",
      "source": [
        "У нас имеется много таблиц по уровню счастья людей"
      ],
      "metadata": {
        "id": "zEeZryZrVASi"
      }
    },
    {
      "cell_type": "code",
      "source": [
        "df2019=pd.read_csv ('2019.csv')\n",
        "df2019.head()"
      ],
      "metadata": {
        "colab": {
          "base_uri": "https://localhost:8080/",
          "height": 267
        },
        "id": "Rs2yg3KeVKDY",
        "outputId": "7c1470d7-a83c-4dd8-f611-bf9c5c258bee"
      },
      "execution_count": null,
      "outputs": [
        {
          "output_type": "execute_result",
          "data": {
            "text/plain": [
              "   Overall rank Country or region  Score  GDP per capita  Social support  \\\n",
              "0             1           Finland  7.769           1.340           1.587   \n",
              "1             2           Denmark  7.600           1.383           1.573   \n",
              "2             3            Norway  7.554           1.488           1.582   \n",
              "3             4           Iceland  7.494           1.380           1.624   \n",
              "4             5       Netherlands  7.488           1.396           1.522   \n",
              "\n",
              "   Healthy life expectancy  Freedom to make life choices  Generosity  \\\n",
              "0                    0.986                         0.596       0.153   \n",
              "1                    0.996                         0.592       0.252   \n",
              "2                    1.028                         0.603       0.271   \n",
              "3                    1.026                         0.591       0.354   \n",
              "4                    0.999                         0.557       0.322   \n",
              "\n",
              "   Perceptions of corruption  \n",
              "0                      0.393  \n",
              "1                      0.410  \n",
              "2                      0.341  \n",
              "3                      0.118  \n",
              "4                      0.298  "
            ],
            "text/html": [
              "\n",
              "  <div id=\"df-0438cdd0-325d-40d2-b84d-3e72cb8c48e8\">\n",
              "    <div class=\"colab-df-container\">\n",
              "      <div>\n",
              "<style scoped>\n",
              "    .dataframe tbody tr th:only-of-type {\n",
              "        vertical-align: middle;\n",
              "    }\n",
              "\n",
              "    .dataframe tbody tr th {\n",
              "        vertical-align: top;\n",
              "    }\n",
              "\n",
              "    .dataframe thead th {\n",
              "        text-align: right;\n",
              "    }\n",
              "</style>\n",
              "<table border=\"1\" class=\"dataframe\">\n",
              "  <thead>\n",
              "    <tr style=\"text-align: right;\">\n",
              "      <th></th>\n",
              "      <th>Overall rank</th>\n",
              "      <th>Country or region</th>\n",
              "      <th>Score</th>\n",
              "      <th>GDP per capita</th>\n",
              "      <th>Social support</th>\n",
              "      <th>Healthy life expectancy</th>\n",
              "      <th>Freedom to make life choices</th>\n",
              "      <th>Generosity</th>\n",
              "      <th>Perceptions of corruption</th>\n",
              "    </tr>\n",
              "  </thead>\n",
              "  <tbody>\n",
              "    <tr>\n",
              "      <th>0</th>\n",
              "      <td>1</td>\n",
              "      <td>Finland</td>\n",
              "      <td>7.769</td>\n",
              "      <td>1.340</td>\n",
              "      <td>1.587</td>\n",
              "      <td>0.986</td>\n",
              "      <td>0.596</td>\n",
              "      <td>0.153</td>\n",
              "      <td>0.393</td>\n",
              "    </tr>\n",
              "    <tr>\n",
              "      <th>1</th>\n",
              "      <td>2</td>\n",
              "      <td>Denmark</td>\n",
              "      <td>7.600</td>\n",
              "      <td>1.383</td>\n",
              "      <td>1.573</td>\n",
              "      <td>0.996</td>\n",
              "      <td>0.592</td>\n",
              "      <td>0.252</td>\n",
              "      <td>0.410</td>\n",
              "    </tr>\n",
              "    <tr>\n",
              "      <th>2</th>\n",
              "      <td>3</td>\n",
              "      <td>Norway</td>\n",
              "      <td>7.554</td>\n",
              "      <td>1.488</td>\n",
              "      <td>1.582</td>\n",
              "      <td>1.028</td>\n",
              "      <td>0.603</td>\n",
              "      <td>0.271</td>\n",
              "      <td>0.341</td>\n",
              "    </tr>\n",
              "    <tr>\n",
              "      <th>3</th>\n",
              "      <td>4</td>\n",
              "      <td>Iceland</td>\n",
              "      <td>7.494</td>\n",
              "      <td>1.380</td>\n",
              "      <td>1.624</td>\n",
              "      <td>1.026</td>\n",
              "      <td>0.591</td>\n",
              "      <td>0.354</td>\n",
              "      <td>0.118</td>\n",
              "    </tr>\n",
              "    <tr>\n",
              "      <th>4</th>\n",
              "      <td>5</td>\n",
              "      <td>Netherlands</td>\n",
              "      <td>7.488</td>\n",
              "      <td>1.396</td>\n",
              "      <td>1.522</td>\n",
              "      <td>0.999</td>\n",
              "      <td>0.557</td>\n",
              "      <td>0.322</td>\n",
              "      <td>0.298</td>\n",
              "    </tr>\n",
              "  </tbody>\n",
              "</table>\n",
              "</div>\n",
              "      <button class=\"colab-df-convert\" onclick=\"convertToInteractive('df-0438cdd0-325d-40d2-b84d-3e72cb8c48e8')\"\n",
              "              title=\"Convert this dataframe to an interactive table.\"\n",
              "              style=\"display:none;\">\n",
              "        \n",
              "  <svg xmlns=\"http://www.w3.org/2000/svg\" height=\"24px\"viewBox=\"0 0 24 24\"\n",
              "       width=\"24px\">\n",
              "    <path d=\"M0 0h24v24H0V0z\" fill=\"none\"/>\n",
              "    <path d=\"M18.56 5.44l.94 2.06.94-2.06 2.06-.94-2.06-.94-.94-2.06-.94 2.06-2.06.94zm-11 1L8.5 8.5l.94-2.06 2.06-.94-2.06-.94L8.5 2.5l-.94 2.06-2.06.94zm10 10l.94 2.06.94-2.06 2.06-.94-2.06-.94-.94-2.06-.94 2.06-2.06.94z\"/><path d=\"M17.41 7.96l-1.37-1.37c-.4-.4-.92-.59-1.43-.59-.52 0-1.04.2-1.43.59L10.3 9.45l-7.72 7.72c-.78.78-.78 2.05 0 2.83L4 21.41c.39.39.9.59 1.41.59.51 0 1.02-.2 1.41-.59l7.78-7.78 2.81-2.81c.8-.78.8-2.07 0-2.86zM5.41 20L4 18.59l7.72-7.72 1.47 1.35L5.41 20z\"/>\n",
              "  </svg>\n",
              "      </button>\n",
              "      \n",
              "  <style>\n",
              "    .colab-df-container {\n",
              "      display:flex;\n",
              "      flex-wrap:wrap;\n",
              "      gap: 12px;\n",
              "    }\n",
              "\n",
              "    .colab-df-convert {\n",
              "      background-color: #E8F0FE;\n",
              "      border: none;\n",
              "      border-radius: 50%;\n",
              "      cursor: pointer;\n",
              "      display: none;\n",
              "      fill: #1967D2;\n",
              "      height: 32px;\n",
              "      padding: 0 0 0 0;\n",
              "      width: 32px;\n",
              "    }\n",
              "\n",
              "    .colab-df-convert:hover {\n",
              "      background-color: #E2EBFA;\n",
              "      box-shadow: 0px 1px 2px rgba(60, 64, 67, 0.3), 0px 1px 3px 1px rgba(60, 64, 67, 0.15);\n",
              "      fill: #174EA6;\n",
              "    }\n",
              "\n",
              "    [theme=dark] .colab-df-convert {\n",
              "      background-color: #3B4455;\n",
              "      fill: #D2E3FC;\n",
              "    }\n",
              "\n",
              "    [theme=dark] .colab-df-convert:hover {\n",
              "      background-color: #434B5C;\n",
              "      box-shadow: 0px 1px 3px 1px rgba(0, 0, 0, 0.15);\n",
              "      filter: drop-shadow(0px 1px 2px rgba(0, 0, 0, 0.3));\n",
              "      fill: #FFFFFF;\n",
              "    }\n",
              "  </style>\n",
              "\n",
              "      <script>\n",
              "        const buttonEl =\n",
              "          document.querySelector('#df-0438cdd0-325d-40d2-b84d-3e72cb8c48e8 button.colab-df-convert');\n",
              "        buttonEl.style.display =\n",
              "          google.colab.kernel.accessAllowed ? 'block' : 'none';\n",
              "\n",
              "        async function convertToInteractive(key) {\n",
              "          const element = document.querySelector('#df-0438cdd0-325d-40d2-b84d-3e72cb8c48e8');\n",
              "          const dataTable =\n",
              "            await google.colab.kernel.invokeFunction('convertToInteractive',\n",
              "                                                     [key], {});\n",
              "          if (!dataTable) return;\n",
              "\n",
              "          const docLinkHtml = 'Like what you see? Visit the ' +\n",
              "            '<a target=\"_blank\" href=https://colab.research.google.com/notebooks/data_table.ipynb>data table notebook</a>'\n",
              "            + ' to learn more about interactive tables.';\n",
              "          element.innerHTML = '';\n",
              "          dataTable['output_type'] = 'display_data';\n",
              "          await google.colab.output.renderOutput(dataTable, element);\n",
              "          const docLink = document.createElement('div');\n",
              "          docLink.innerHTML = docLinkHtml;\n",
              "          element.appendChild(docLink);\n",
              "        }\n",
              "      </script>\n",
              "    </div>\n",
              "  </div>\n",
              "  "
            ]
          },
          "metadata": {},
          "execution_count": 24
        }
      ]
    },
    {
      "cell_type": "markdown",
      "source": [
        "На данный момент поработаем с 2019"
      ],
      "metadata": {
        "id": "k43bY6llWVvD"
      }
    },
    {
      "cell_type": "markdown",
      "source": [
        "Проверим уникальные значения"
      ],
      "metadata": {
        "id": "VoCCNGRFWet4"
      }
    },
    {
      "cell_type": "code",
      "source": [
        "print(df2019['Overall rank'].unique())"
      ],
      "metadata": {
        "colab": {
          "base_uri": "https://localhost:8080/"
        },
        "id": "IHZo-aocWhJv",
        "outputId": "d12e7db9-345d-4871-fc5f-1ad52d58b205"
      },
      "execution_count": null,
      "outputs": [
        {
          "output_type": "stream",
          "name": "stdout",
          "text": [
            "[  1   2   3   4   5   6   7   8   9  10  11  12  13  14  15  16  17  18\n",
            "  19  20  21  22  23  24  25  26  27  28  29  30  31  32  33  34  35  36\n",
            "  37  38  39  40  41  42  43  44  45  46  47  48  49  50  51  52  53  54\n",
            "  55  56  57  58  59  60  61  62  63  64  65  66  67  68  69  70  71  72\n",
            "  73  74  75  76  77  78  79  80  81  82  83  84  85  86  87  88  89  90\n",
            "  91  92  93  94  95  96  97  98  99 100 101 102 103 104 105 106 107 108\n",
            " 109 110 111 112 113 114 115 116 117 118 119 120 121 122 123 124 125 126\n",
            " 127 128 129 130 131 132 133 134 135 136 137 138 139 140 141 142 143 144\n",
            " 145 146 147 148 149 150 151 152 153 154 155 156]\n"
          ]
        }
      ]
    },
    {
      "cell_type": "code",
      "source": [
        "print(df2019['Country or region'].unique())"
      ],
      "metadata": {
        "colab": {
          "base_uri": "https://localhost:8080/"
        },
        "id": "wMl5DZm6XG3o",
        "outputId": "342561ae-a011-4d7c-f5c4-cde0d39cd951"
      },
      "execution_count": null,
      "outputs": [
        {
          "output_type": "stream",
          "name": "stdout",
          "text": [
            "['Finland' 'Denmark' 'Norway' 'Iceland' 'Netherlands' 'Switzerland'\n",
            " 'Sweden' 'New Zealand' 'Canada' 'Austria' 'Australia' 'Costa Rica'\n",
            " 'Israel' 'Luxembourg' 'United Kingdom' 'Ireland' 'Germany' 'Belgium'\n",
            " 'United States' 'Czech Republic' 'United Arab Emirates' 'Malta' 'Mexico'\n",
            " 'France' 'Taiwan' 'Chile' 'Guatemala' 'Saudi Arabia' 'Qatar' 'Spain'\n",
            " 'Panama' 'Brazil' 'Uruguay' 'Singapore' 'El Salvador' 'Italy' 'Bahrain'\n",
            " 'Slovakia' 'Trinidad & Tobago' 'Poland' 'Uzbekistan' 'Lithuania'\n",
            " 'Colombia' 'Slovenia' 'Nicaragua' 'Kosovo' 'Argentina' 'Romania' 'Cyprus'\n",
            " 'Ecuador' 'Kuwait' 'Thailand' 'Latvia' 'South Korea' 'Estonia' 'Jamaica'\n",
            " 'Mauritius' 'Japan' 'Honduras' 'Kazakhstan' 'Bolivia' 'Hungary'\n",
            " 'Paraguay' 'Northern Cyprus' 'Peru' 'Portugal' 'Pakistan' 'Russia'\n",
            " 'Philippines' 'Serbia' 'Moldova' 'Libya' 'Montenegro' 'Tajikistan'\n",
            " 'Croatia' 'Hong Kong' 'Dominican Republic' 'Bosnia and Herzegovina'\n",
            " 'Turkey' 'Malaysia' 'Belarus' 'Greece' 'Mongolia' 'North Macedonia'\n",
            " 'Nigeria' 'Kyrgyzstan' 'Turkmenistan' 'Algeria' 'Morocco' 'Azerbaijan'\n",
            " 'Lebanon' 'Indonesia' 'China' 'Vietnam' 'Bhutan' 'Cameroon' 'Bulgaria'\n",
            " 'Ghana' 'Ivory Coast' 'Nepal' 'Jordan' 'Benin' 'Congo (Brazzaville)'\n",
            " 'Gabon' 'Laos' 'South Africa' 'Albania' 'Venezuela' 'Cambodia'\n",
            " 'Palestinian Territories' 'Senegal' 'Somalia' 'Namibia' 'Niger'\n",
            " 'Burkina Faso' 'Armenia' 'Iran' 'Guinea' 'Georgia' 'Gambia' 'Kenya'\n",
            " 'Mauritania' 'Mozambique' 'Tunisia' 'Bangladesh' 'Iraq'\n",
            " 'Congo (Kinshasa)' 'Mali' 'Sierra Leone' 'Sri Lanka' 'Myanmar' 'Chad'\n",
            " 'Ukraine' 'Ethiopia' 'Swaziland' 'Uganda' 'Egypt' 'Zambia' 'Togo' 'India'\n",
            " 'Liberia' 'Comoros' 'Madagascar' 'Lesotho' 'Burundi' 'Zimbabwe' 'Haiti'\n",
            " 'Botswana' 'Syria' 'Malawi' 'Yemen' 'Rwanda' 'Tanzania' 'Afghanistan'\n",
            " 'Central African Republic' 'South Sudan']\n"
          ]
        }
      ]
    },
    {
      "cell_type": "code",
      "source": [
        "print(df2019['Score'].unique())"
      ],
      "metadata": {
        "colab": {
          "base_uri": "https://localhost:8080/"
        },
        "id": "6IXjtm12XPtN",
        "outputId": "23a54d9f-dc7e-4c56-cd8c-393894f1e732"
      },
      "execution_count": null,
      "outputs": [
        {
          "output_type": "stream",
          "name": "stdout",
          "text": [
            "[7.769 7.6   7.554 7.494 7.488 7.48  7.343 7.307 7.278 7.246 7.228 7.167\n",
            " 7.139 7.09  7.054 7.021 6.985 6.923 6.892 6.852 6.825 6.726 6.595 6.592\n",
            " 6.446 6.444 6.436 6.375 6.374 6.354 6.321 6.3   6.293 6.262 6.253 6.223\n",
            " 6.199 6.198 6.192 6.182 6.174 6.149 6.125 6.118 6.105 6.1   6.086 6.07\n",
            " 6.046 6.028 6.021 6.008 5.94  5.895 5.893 5.89  5.888 5.886 5.86  5.809\n",
            " 5.779 5.758 5.743 5.718 5.697 5.693 5.653 5.648 5.631 5.603 5.529 5.525\n",
            " 5.523 5.467 5.432 5.43  5.425 5.386 5.373 5.339 5.323 5.287 5.285 5.274\n",
            " 5.265 5.261 5.247 5.211 5.208 5.197 5.192 5.191 5.175 5.082 5.044 5.011\n",
            " 4.996 4.944 4.913 4.906 4.883 4.812 4.799 4.796 4.722 4.719 4.707 4.7\n",
            " 4.696 4.681 4.668 4.639 4.628 4.587 4.559 4.548 4.534 4.519 4.516 4.509\n",
            " 4.49  4.466 4.461 4.456 4.437 4.418 4.39  4.374 4.366 4.36  4.35  4.332\n",
            " 4.286 4.212 4.189 4.166 4.107 4.085 4.015 3.975 3.973 3.933 3.802 3.775\n",
            " 3.663 3.597 3.488 3.462 3.41  3.38  3.334 3.231 3.203 3.083 2.853]\n"
          ]
        }
      ]
    },
    {
      "cell_type": "code",
      "source": [
        "print(df2019['GDP per capita'].unique())"
      ],
      "metadata": {
        "colab": {
          "base_uri": "https://localhost:8080/"
        },
        "id": "ZoRxDBmUXYNl",
        "outputId": "e648058f-4fa8-427b-ebaf-9f6ab8c25ca1"
      },
      "execution_count": null,
      "outputs": [
        {
          "output_type": "stream",
          "name": "stdout",
          "text": [
            "[1.34  1.383 1.488 1.38  1.396 1.452 1.387 1.303 1.365 1.376 1.372 1.034\n",
            " 1.276 1.609 1.333 1.499 1.373 1.356 1.433 1.269 1.503 1.3   1.07  1.324\n",
            " 1.368 1.159 0.8   1.403 1.684 1.286 1.149 1.004 1.124 1.572 0.794 1.294\n",
            " 1.362 1.246 1.231 1.206 0.745 1.238 0.985 1.258 0.694 0.882 1.092 1.162\n",
            " 1.263 0.912 1.5   1.05  1.187 1.301 1.237 0.831 1.12  1.327 0.642 1.173\n",
            " 0.776 1.201 0.855 0.96  1.221 0.677 1.183 0.807 0.685 1.044 1.051 0.493\n",
            " 1.155 1.438 1.015 0.945 1.067 1.181 0.948 0.983 0.696 0.551 1.052 1.002\n",
            " 0.801 1.043 0.987 0.931 1.029 0.741 0.813 0.549 0.611 0.569 0.446 0.837\n",
            " 0.393 0.673 1.057 0.764 0.947 0.574 0.657 0.45  0.    0.879 0.138 0.331\n",
            " 0.85  1.1   0.38  0.886 0.308 0.512 0.57  0.204 0.921 0.562 0.094 0.385\n",
            " 0.268 0.949 0.71  0.35  0.82  0.336 0.811 0.332 0.913 0.578 0.275 0.755\n",
            " 0.073 0.274 0.489 0.046 0.366 0.323 1.041 0.619 0.191 0.287 0.359 0.476\n",
            " 0.026 0.306]\n"
          ]
        }
      ]
    },
    {
      "cell_type": "code",
      "source": [
        "print(df2019['Social support'].unique())"
      ],
      "metadata": {
        "colab": {
          "base_uri": "https://localhost:8080/"
        },
        "id": "AcUZ7hSwXe_I",
        "outputId": "b8a476b8-8bb5-4fff-ab1d-06f1a3ce14c6"
      },
      "execution_count": null,
      "outputs": [
        {
          "output_type": "stream",
          "name": "stdout",
          "text": [
            "[1.587 1.573 1.582 1.624 1.522 1.526 1.487 1.557 1.505 1.475 1.548 1.441\n",
            " 1.455 1.479 1.538 1.553 1.454 1.504 1.457 1.31  1.52  1.323 1.472 1.43\n",
            " 1.369 1.269 1.357 1.313 1.484 1.442 1.439 1.465 1.463 1.242 1.488 1.368\n",
            " 1.477 1.438 1.529 1.515 1.41  1.523 1.325 1.232 1.432 1.223 1.312 1.319\n",
            " 1.409 1.219 1.528 1.478 1.402 1.419 1.236 1.508 1.209 1.252 1.274 1.431\n",
            " 0.886 1.452 1.293 1.383 1.328 1.303 1.361 1.098 1.266 1.277 1.401 1.212\n",
            " 1.36  1.171 1.156 1.531 1.294 1.111 1.16  0.782 1.147 1.224 1.203 1.125\n",
            " 1.346 1.321 0.91  1.513 0.868 0.808 1.226 1.225 0.437 0.799 1.183 1.03\n",
            " 1.351 0.848 1.427 1.122 1.247 1.134 0.698 0.774 1.056 1.055 0.842 0.829\n",
            " 0.666 0.939 0.983 1.167 0.986 1.    0.928 0.98  1.105 0.841 1.265 1.181\n",
            " 0.766 1.39  1.033 1.149 1.069 1.039 1.058 0.572 0.765 0.922 0.757 0.916\n",
            " 1.169 0.447 1.114 0.688 1.145 0.378 0.56  1.163 0.711 0.885 0.517 0.\n",
            " 0.575]\n"
          ]
        }
      ]
    },
    {
      "cell_type": "code",
      "source": [
        "print(df2019['Freedom to make life choices'].unique())"
      ],
      "metadata": {
        "colab": {
          "base_uri": "https://localhost:8080/"
        },
        "id": "tgU_Y48mXrLg",
        "outputId": "573bcadc-3bdb-4063-fd26-b4a576c4ef2b"
      },
      "execution_count": null,
      "outputs": [
        {
          "output_type": "stream",
          "name": "stdout",
          "text": [
            "[0.596 0.592 0.603 0.591 0.557 0.572 0.574 0.585 0.584 0.532 0.558 0.371\n",
            " 0.526 0.45  0.516 0.495 0.473 0.454 0.457 0.598 0.564 0.433 0.436 0.351\n",
            " 0.357 0.535 0.439 0.555 0.362 0.39  0.523 0.556 0.43  0.231 0.536 0.334\n",
            " 0.489 0.483 0.631 0.291 0.47  0.435 0.471 0.462 0.406 0.498 0.493 0.264\n",
            " 0.159 0.49  0.445 0.507 0.41  0.511 0.199 0.514 0.417 0.455 0.508 0.313\n",
            " 0.282 0.245 0.416 0.197 0.389 0.296 0.44  0.497 0.212 0.195 0.235 0.067\n",
            " 0.317 0.345 0.426 0.394 0.086 0.418 0.216 0.491 0.521 0.543 0.381 0.311\n",
            " 0.352 0.383 0.349 0.372 0.295 0.547 0.154 0.609 0.225 0.292 0.559 0.401\n",
            " 0.318 0.255 0.283 0.305 0.332 0.346 0.382 0.431 0.066 0.494 0.167 0.527\n",
            " 0.241 0.269 0.327 0.309 0.525 0.174 0.178 0.344 0.356 0.293 0.37  0.142\n",
            " 0.148 0.359 0.22  0.361 0.026 0.013 0.443 0.143 0.    0.01 ]\n"
          ]
        }
      ]
    },
    {
      "cell_type": "code",
      "source": [
        "print(df2019['Generosity'].unique())"
      ],
      "metadata": {
        "colab": {
          "base_uri": "https://localhost:8080/"
        },
        "id": "G1zMDf7cX25R",
        "outputId": "fdd413aa-46e8-4cea-d2d1-b0910c2be547"
      },
      "execution_count": null,
      "outputs": [
        {
          "output_type": "stream",
          "name": "stdout",
          "text": [
            "[0.153 0.252 0.271 0.354 0.322 0.263 0.267 0.33  0.285 0.244 0.332 0.144\n",
            " 0.261 0.194 0.348 0.298 0.16  0.28  0.046 0.262 0.375 0.074 0.111 0.242\n",
            " 0.187 0.175 0.08  0.22  0.109 0.099 0.127 0.093 0.158 0.255 0.121 0.185\n",
            " 0.117 0.043 0.2   0.066 0.083 0.19  0.126 0.142 0.359 0.075 0.103 0.107\n",
            " 0.215 0.069 0.246 0.146 0.137 0.081 0.184 0.191 0.047 0.082 0.181 0.133\n",
            " 0.23  0.119 0.258 0.113 0.26  0.094 0.    0.235 0.3   0.073 0.036 0.035\n",
            " 0.166 0.498 0.058 0.147 0.37  0.245 0.154 0.11  0.105 0.266 0.13  0.178\n",
            " 0.064 0.232 0.243 0.07  0.188 0.177 0.095 0.27  0.207 0.269 0.372 0.106\n",
            " 0.197 0.059 0.148 0.212 0.566 0.198 0.209 0.076 0.247 0.233 0.275 0.169\n",
            " 0.176 0.151 0.419 0.025 0.331 0.218 0.108 0.217 0.276 0.202]\n"
          ]
        }
      ]
    },
    {
      "cell_type": "code",
      "source": [
        "print(df2019['Perceptions of corruption'].unique())"
      ],
      "metadata": {
        "colab": {
          "base_uri": "https://localhost:8080/"
        },
        "id": "iIuHC6tqX-zz",
        "outputId": "d6003701-c86d-4521-d933-5faf9d11efdf"
      },
      "execution_count": null,
      "outputs": [
        {
          "output_type": "stream",
          "name": "stdout",
          "text": [
            "[0.393 0.41  0.341 0.118 0.298 0.343 0.373 0.38  0.308 0.226 0.29  0.093\n",
            " 0.082 0.316 0.278 0.31  0.265 0.21  0.128 0.036 0.182 0.151 0.073 0.183\n",
            " 0.097 0.056 0.078 0.132 0.167 0.079 0.054 0.086 0.15  0.453 0.074 0.03\n",
            " 0.11  0.014 0.016 0.05  0.24  0.042 0.034 0.057 0.127 0.006 0.005 0.041\n",
            " 0.087 0.028 0.064 0.161 0.06  0.14  0.096 0.02  0.08  0.162 0.027 0.025\n",
            " 0.098 0.031 0.107 0.039 0.    0.152 0.144 0.022 0.287 0.101 0.106 0.024\n",
            " 0.142 0.038 0.023 0.114 0.076 0.1   0.037 0.004 0.04  0.09  0.089 0.13\n",
            " 0.055 0.164 0.047 0.062 0.066 0.072 0.27  0.102 0.113 0.125 0.053 0.088\n",
            " 0.138 0.143 0.052 0.045 0.172 0.01  0.135 0.067 0.085 0.033 0.18  0.141\n",
            " 0.077 0.411 0.147 0.035 0.091]\n"
          ]
        }
      ]
    },
    {
      "cell_type": "code",
      "source": [
        "df2019.info()"
      ],
      "metadata": {
        "colab": {
          "base_uri": "https://localhost:8080/"
        },
        "id": "5ieFUxPOZ6uE",
        "outputId": "ac628294-4083-44a9-8191-7b7636b05139"
      },
      "execution_count": null,
      "outputs": [
        {
          "output_type": "stream",
          "name": "stdout",
          "text": [
            "<class 'pandas.core.frame.DataFrame'>\n",
            "RangeIndex: 156 entries, 0 to 155\n",
            "Data columns (total 9 columns):\n",
            " #   Column                        Non-Null Count  Dtype  \n",
            "---  ------                        --------------  -----  \n",
            " 0   Overall rank                  156 non-null    int64  \n",
            " 1   Country or region             156 non-null    object \n",
            " 2   Score                         156 non-null    float64\n",
            " 3   GDP per capita                156 non-null    float64\n",
            " 4   Social support                156 non-null    float64\n",
            " 5   Healthy life expectancy       156 non-null    float64\n",
            " 6   Freedom to make life choices  156 non-null    float64\n",
            " 7   Generosity                    156 non-null    float64\n",
            " 8   Perceptions of corruption     156 non-null    float64\n",
            "dtypes: float64(7), int64(1), object(1)\n",
            "memory usage: 11.1+ KB\n"
          ]
        }
      ]
    },
    {
      "cell_type": "markdown",
      "source": [
        "После просмотра уникальных значений мы видим что пропусков в данных у нас нет."
      ],
      "metadata": {
        "id": "yX3QMETAa1FN"
      }
    },
    {
      "cell_type": "markdown",
      "source": [
        "После того как вывели информацию по типам данных мы видим что все типы проставленны правильно. У нас имеется много чисел с плавающей точкой. Если мы их переведём в формат int64 тогда Питон всё сократит до целых значений и мы потерям точность. Поэтому этого делать не будем. "
      ],
      "metadata": {
        "id": "4N-SMqaka9a0"
      }
    },
    {
      "cell_type": "markdown",
      "source": [
        "Приступаем к видуализациям"
      ],
      "metadata": {
        "id": "HhglJ4m0mMK-"
      }
    },
    {
      "cell_type": "code",
      "source": [
        "plt.plot(df2019.index, df2019['Country or region'])\n"
      ],
      "metadata": {
        "colab": {
          "base_uri": "https://localhost:8080/",
          "height": 282
        },
        "id": "wNUbMNQGkdCw",
        "outputId": "d921cd16-7997-4432-dc08-8b2b32fedd95"
      },
      "execution_count": null,
      "outputs": [
        {
          "output_type": "execute_result",
          "data": {
            "text/plain": [
              "[<matplotlib.lines.Line2D at 0x7f22f1279950>]"
            ]
          },
          "metadata": {},
          "execution_count": 35
        },
        {
          "output_type": "display_data",
          "data": {
            "text/plain": [
              "<Figure size 432x288 with 1 Axes>"
            ],
            "image/png": "[encoded data removed]"
          },
          "metadata": {
            "needs_background": "light"
          }
        }
      ]
    },
    {
      "cell_type": "markdown",
      "source": [
        "Исходя из данного графика мы видим что данные распределены равномерно"
      ],
      "metadata": {
        "id": "RjbHrtolyQni"
      }
    },
    {
      "cell_type": "code",
      "source": [
        "df2019['Score'].plot(kind='hist', title = 'Распределение', bins = 20)"
      ],
      "metadata": {
        "colab": {
          "base_uri": "https://localhost:8080/",
          "height": 298
        },
        "id": "mUQSTs2KyaSu",
        "outputId": "c6aaa54f-8bea-4e02-be40-b25e8f171413"
      },
      "execution_count": null,
      "outputs": [
        {
          "output_type": "execute_result",
          "data": {
            "text/plain": [
              "<matplotlib.axes._subplots.AxesSubplot at 0x7f22f0b58a90>"
            ]
          },
          "metadata": {},
          "execution_count": 37
        },
        {
          "output_type": "display_data",
          "data": {
            "text/plain": [
              "<Figure size 432x288 with 1 Axes>"
            ],
            "image/png": "[encoded data removed]"
          },
          "metadata": {
            "needs_background": "light"
          }
        }
      ]
    },
    {
      "cell_type": "markdown",
      "source": [
        "Смотря на Гистограмму понимаем что имеется достаточно большой разброс касательно счастливых и не счастливых стран. "
      ],
      "metadata": {
        "id": "87wneDeV229l"
      }
    },
    {
      "cell_type": "code",
      "source": [
        "df2019_1=df2019[['Country or region','Score','Score',]]"
      ],
      "metadata": {
        "id": "E9m17ns5DZHf"
      },
      "execution_count": null,
      "outputs": []
    },
    {
      "cell_type": "code",
      "source": [
        "df2019[['Country or region','Score','GDP per capita',\n",
        "        'Social support', 'Healthy life expectancy', \n",
        "        'Freedom to make life choices', 'Generosity', \n",
        "        'Perceptions of corruption']].drop('Score', axis=1).plot(kind='bar', stacked=True)"
      ],
      "metadata": {
        "colab": {
          "base_uri": "https://localhost:8080/",
          "height": 291
        },
        "id": "38-06j8mCcwx",
        "outputId": "23a17ec0-de0f-4885-892e-f70664253a3f"
      },
      "execution_count": null,
      "outputs": [
        {
          "output_type": "execute_result",
          "data": {
            "text/plain": [
              "<matplotlib.axes._subplots.AxesSubplot at 0x7f22eb7a0a10>"
            ]
          },
          "metadata": {},
          "execution_count": 54
        },
        {
          "output_type": "display_data",
          "data": {
            "text/plain": [
              "<Figure size 432x288 with 1 Axes>"
            ],
            "image/png": "[encoded data removed]"
          },
          "metadata": {
            "needs_background": "light"
          }
        }
      ]
    },
    {
      "cell_type": "markdown",
      "source": [
        "Исходя из данной визуализации мы можем предположить что ВВП страны и социальная потдержка влияет на счастья населения достаточно сильно"
      ],
      "metadata": {
        "id": "U43LdqcxEw3L"
      }
    },
    {
      "cell_type": "code",
      "source": [
        "df2019[['Score']].plot(kind='box',\n",
        "                       title='Распределение итогового счёта',\n",
        "                       grid=True)"
      ],
      "metadata": {
        "colab": {
          "base_uri": "https://localhost:8080/",
          "height": 298
        },
        "id": "6WaRjqLCJbZj",
        "outputId": "237cce61-68a0-47ae-e7c2-9e9b514877b3"
      },
      "execution_count": null,
      "outputs": [
        {
          "output_type": "execute_result",
          "data": {
            "text/plain": [
              "<matplotlib.axes._subplots.AxesSubplot at 0x7f22ed0657d0>"
            ]
          },
          "metadata": {},
          "execution_count": 55
        },
        {
          "output_type": "display_data",
          "data": {
            "text/plain": [
              "<Figure size 432x288 with 1 Axes>"
            ],
            "image/png": "[encoded data removed]"
          },
          "metadata": {
            "needs_background": "light"
          }
        }
      ]
    },
    {
      "cell_type": "markdown",
      "source": [
        "На этой визуализации мы можем увидеть что среднее значение у нас примерно 5,4. Выбросы по данной категории отсутствуют"
      ],
      "metadata": {
        "id": "BvxuI4QwKZx_"
      }
    }
  ]
}