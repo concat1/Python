{
  "nbformat": 4,
  "nbformat_minor": 0,
  "metadata": {
    "colab": {
      "name": "Управляющие конструкции и коллекции (часть1)",
      "provenance": []
    },
    "kernelspec": {
      "name": "python3",
      "display_name": "Python 3"
    },
    "language_info": {
      "name": "python"
    }
  },
  "cells": [
    {
      "cell_type": "markdown",
      "source": [
        "Задание 1 \n",
        "Дана переменная, в которой хранится слово из латинских букв. Напишите код, который выводит на экран:\n",
        "\n",
        "среднюю букву, если число букв в слове нечетное;\n",
        "две средних буквы, если число букв четное."
      ],
      "metadata": {
        "id": "20LGsuqdVCQe"
      }
    },
    {
      "cell_type": "code",
      "source": [
        "word = 'test'\n",
        "if l%2 == 0:\n",
        "   print(word[l//2 - 1], word[l//2])\n",
        "else:\n",
        "    print(word[l//2])"
      ],
      "metadata": {
        "colab": {
          "base_uri": "https://localhost:8080/"
        },
        "id": "w7MVN4LWu1vW",
        "outputId": "1e3388c3-0ad7-4ecd-cf1c-43cfbb614681"
      },
      "execution_count": null,
      "outputs": [
        {
          "output_type": "stream",
          "name": "stdout",
          "text": [
            "e s\n"
          ]
        }
      ]
    },
    {
      "cell_type": "code",
      "source": [
        "word = 'testing'\n",
        "if l%2 == 0:\n",
        "   print(word[len(word)//2])\n",
        "else:\n",
        "    print(word[l//2])"
      ],
      "metadata": {
        "colab": {
          "base_uri": "https://localhost:8080/"
        },
        "id": "d92fEMuI4L18",
        "outputId": "463b6d6c-0eca-4908-d5b4-cd420c1ff9ca"
      },
      "execution_count": null,
      "outputs": [
        {
          "output_type": "stream",
          "name": "stdout",
          "text": [
            "t\n"
          ]
        }
      ]
    },
    {
      "cell_type": "markdown",
      "source": [
        "Задание 2\n",
        "Напишите программу, которая последовательно запрашивает у пользователя числа (по одному за раз) и после первого нуля выводит сумму всех ранее введенных чисел."
      ],
      "metadata": {
        "id": "nl8bCa8mVaf0"
      }
    },
    {
      "cell_type": "code",
      "source": [
        "text = int(input(\"Вводите значение: \")) \n",
        "a = []\n",
        "while text != 0:  \n",
        "    a.append(text)  \n",
        "    text = int(input(\"Вводите значение: \"))\n",
        "print(sum(a))  \n"
      ],
      "metadata": {
        "id": "sZfAqcSAVcAB",
        "colab": {
          "base_uri": "https://localhost:8080/"
        },
        "outputId": "10f1d2ee-9597-45dd-9d93-86468ebc02af"
      },
      "execution_count": null,
      "outputs": [
        {
          "output_type": "stream",
          "name": "stdout",
          "text": [
            "Вводите значение: 1\n",
            "Вводите значение: 4\n",
            "Вводите значение: 6\n",
            "Вводите значение: 0\n",
            "11\n"
          ]
        }
      ]
    },
    {
      "cell_type": "markdown",
      "source": [
        "Задание 3 \n",
        "Мы делаем MVP dating-сервиса, и у нас есть список парней и девушек.\n",
        "Выдвигаем гипотезу: лучшие рекомендации мы получим, если просто отсортируем имена по алфавиту и познакомим людей с одинаковыми индексами после сортировки! Но мы не будем никого знакомить, если кто-то может остаться без пары:"
      ],
      "metadata": {
        "id": "POGOw9BfVL_3"
      }
    },
    {
      "cell_type": "code",
      "source": [
        "boys = ['Peter','Alex', 'John', 'Arthur', 'Richard']\n",
        "girls = ['Kate', 'Liza', 'Kira', 'Emma', 'Trisha']\n",
        "if len(boys)==len(girls):\n",
        "    print(\"Идеальная пара:\")\n",
        "    boys.sort()\n",
        "    girls.sort()\n",
        "    dating = zip(boys, girls)\n",
        "    for company in dating:\n",
        "        print(f\"{company[0]} и {company[1]}\")\n",
        "else:\n",
        " \n",
        "    print(\"Внимание, кто-то может остаться без пары!\")"
      ],
      "metadata": {
        "colab": {
          "base_uri": "https://localhost:8080/"
        },
        "id": "WHoJKVVdVt5g",
        "outputId": "d4311159-2394-41ae-dc4a-65b2f38744eb"
      },
      "execution_count": null,
      "outputs": [
        {
          "output_type": "stream",
          "name": "stdout",
          "text": [
            "Идеальная пара:\n",
            "Alex и Emma\n",
            "Arthur и Kate\n",
            "John и Kira\n",
            "Peter и Liza\n",
            "Richard и Trisha\n"
          ]
        }
      ]
    },
    {
      "cell_type": "code",
      "source": [
        "boys = ['Peter','Alex', 'John', 'Arthur', 'Richard', 'Michael']\n",
        "girls = ['Kate', 'Liza', 'Kira', 'Emma', 'Trisha']\n",
        "if len(boys)==len(girls):\n",
        "    print(\"Идеальная пара:\")\n",
        "    boys.sort()\n",
        "    girls.sort()\n",
        "    dating = zip(boys, girls)\n",
        "    for company in dating:\n",
        "     print(f\"{company[0]} и {company[1]}\")\n",
        "else:\n",
        "     print(\"Внимание, кто-то может остаться без пары!\")"
      ],
      "metadata": {
        "colab": {
          "base_uri": "https://localhost:8080/"
        },
        "id": "h0ALzroPV90U",
        "outputId": "65ffaec3-cea8-4f53-b664-38cddfceff25"
      },
      "execution_count": null,
      "outputs": [
        {
          "output_type": "stream",
          "name": "stdout",
          "text": [
            "Внимание, кто-то может остаться без пары!\n"
          ]
        }
      ]
    },
    {
      "cell_type": "markdown",
      "source": [
        "Задание 4\n",
        "У нас есть список, содержащий информацию о среднедневной температуре в Фаренгейтах за произвольный период по странам (структура данных в примере). Необходимо написать код, который рассчитает среднюю температуру за период в Цельсиях(!) для каждой страны."
      ],
      "metadata": {
        "id": "WbPLm40_WT10"
      }
    },
    {
      "cell_type": "code",
      "source": [
        "countries_temperature = [\n",
        "['Thailand', [75.2, 77, 78.8, 73.4, 68, 75.2, 77]],\n",
        "['Germany', [57.2, 55.4, 59, 59, 53.6]],\n",
        "['Russia', [35.6, 37.4, 39.2, 41, 42.8, 39.2, 35.6]],\n",
        "['Poland', [50, 50, 53.6, 57.2, 55.4, 55.4]]\n",
        "]\n",
        "for i in countries_temperature:\n",
        "    print(i[0], '-', round((sum(i[1]) / len(i[1]) - 32) / 1.8, 1), 'C')"
      ],
      "metadata": {
        "colab": {
          "base_uri": "https://localhost:8080/"
        },
        "id": "n8z7e9FIWXNG",
        "outputId": "d67f4457-0063-44df-892f-f70d0a64721b"
      },
      "execution_count": null,
      "outputs": [
        {
          "output_type": "stream",
          "name": "stdout",
          "text": [
            "Thailand - 23.9 C\n",
            "Germany - 13.8 C\n",
            "Russia - 3.7 C\n",
            "Poland - 12.0 C\n"
          ]
        }
      ]
    }
  ]
}