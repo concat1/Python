{
  "cells": [
    {
      "cell_type": "markdown",
      "source": [
        "Вам нужно помочь секретарю автоматизировать работу. Для этого нужно написать программу, которая будет на основе хранимых данных исполнять пользовательские команды.\n",
        "\n",
        "Общие требования к программе:\n",
        "\n",
        "код должен быть грамотно декомпозирован (каждая функция отвечает за свою конкретную задачу, дублирующийся функционал переиспользуется, а его код не повторяется);\n",
        "\n",
        "в коде отсутствуют глобальные переменные (за исключением documents и directories);\n",
        "\n",
        "пользовательский ввод обрабатывается в цикле while до тех пор, пока пользователь явно не завершит программу (вводом команды “q”)."
      ],
      "metadata": {
        "id": "UqCEUF2SQMzD"
      }
    },
    {
      "cell_type": "code",
      "source": [
        "documents = [\n",
        "    {'type': 'passport', 'number': '2207 876234', 'name': 'Василий Гупкин'},\n",
        "    {'type': 'invoice', 'number': '11-2', 'name': 'Геннадий Покемонов'},\n",
        "    {'type': 'insurance', 'number': '10006', 'name': 'Аристарх Павлов'}\n",
        "]"
      ],
      "metadata": {
        "id": "mHEE2uwfietR"
      },
      "execution_count": null,
      "outputs": []
    },
    {
      "cell_type": "code",
      "source": [
        "directories = {\n",
        "    '1': ['2207 876234', '11-2'],\n",
        "    '2': ['10006'],\n",
        "    '3': []\n",
        "}"
      ],
      "metadata": {
        "id": "4-AojhY2ijk2"
      },
      "execution_count": null,
      "outputs": []
    },
    {
      "cell_type": "markdown",
      "source": [
        "Пункт 1 \n",
        "\n",
        "Пользователь по команде “p” может узнать владельца документа по его номеру"
      ],
      "metadata": {
        "id": "ReEgZDtKm9Wb"
      }
    },
    {
      "cell_type": "code",
      "source": [
        "def owner(number_doc):\n",
        "    owner_name = ''\n",
        "    for row in documents:\n",
        "        if row['number'] == number_doc:\n",
        "            owner_name = 'Владелец документа: ' + row['name']\n",
        "    if owner_name == '': \n",
        "        owner_name = 'Документ не найден в базе'\n",
        "    return owner_name"
      ],
      "metadata": {
        "id": "YZGdn92lm_g2"
      },
      "execution_count": null,
      "outputs": []
    },
    {
      "cell_type": "markdown",
      "source": [
        "Пункт 2\n",
        "\n",
        "Пользователь по команде “s” может по номеру документа узнать на какой полке он хранится"
      ],
      "metadata": {
        "id": "iFM_9sw7nLAu"
      }
    },
    {
      "cell_type": "code",
      "source": [
        "def doc_dir(number_doc):\n",
        "    shelf = ''\n",
        "    for item, values in directories.items():\n",
        "        if number_doc in values:\n",
        "            shelf = 'Документ хранится на полке: ' + item\n",
        "    if shelf == '':\n",
        "        shelf='Документ не найден в базе'\n",
        "    return shelf"
      ],
      "metadata": {
        "id": "uAytTQGJnNcH"
      },
      "execution_count": null,
      "outputs": []
    },
    {
      "cell_type": "markdown",
      "source": [
        "Пункт 3\n",
        "\n",
        "Пользователь по команде “s” может по номеру документа узнать на какой полке он хранится"
      ],
      "metadata": {
        "id": "KfhNEq3inUEg"
      }
    },
    {
      "cell_type": "code",
      "source": [
        "def list_doc():\n",
        "    for i in documents:\n",
        "        for item, values in directories.items():\n",
        "            if i['number'] in values:\n",
        "                print('№ ' + i['number'] + ', тип: ' + i['type'] + ', владелец: ' + i['name'] + ', полка хранения: ' + item)"
      ],
      "metadata": {
        "id": "_UOjuAQhnWqc"
      },
      "execution_count": null,
      "outputs": []
    },
    {
      "cell_type": "code",
      "source": [
        "def list_shelf():\n",
        "    listshelf = ''\n",
        "    for item, values in directories.items():\n",
        "        listshelf = listshelf + item + ',' \n",
        "    listshelf = listshelf[:-1] + '.'\n",
        "    return listshelf"
      ],
      "metadata": {
        "id": "oZhDZIJHop01"
      },
      "execution_count": null,
      "outputs": []
    },
    {
      "cell_type": "markdown",
      "source": [
        "Пункт 4\n",
        "\n",
        "Пользователь по команде “ads” может добавить новую полку"
      ],
      "metadata": {
        "id": "-jQIz15jnfC_"
      }
    },
    {
      "cell_type": "code",
      "source": [
        "def add_shelf(number_shelf):  \n",
        "    count = 0\n",
        "    for item, values in directories.items():\n",
        "        if number_shelf in item:\n",
        "            count = 1\n",
        "    if count == 1:\n",
        "        print('Такая полка уже существует. Текущий перечень полок: ' + list_shelf())\n",
        "    else:\n",
        "        directories[number_shelf]=[]\n",
        "        print('Полка добавлена. Текущий перечень полок: '+ list_shelf())"
      ],
      "metadata": {
        "id": "0fcqSfWengmo"
      },
      "execution_count": null,
      "outputs": []
    },
    {
      "cell_type": "markdown",
      "source": [
        "Пункт 5\n",
        "\n",
        "Пользователь по команде “ds” может удалить существующую полку из данных (только если она пустая)"
      ],
      "metadata": {
        "id": "piqI10A0oP8A"
      }
    },
    {
      "cell_type": "code",
      "source": [
        "def del_shelf(number_shelf):\n",
        "    count = 0\n",
        "    for item, values in directories.items():\n",
        "        if number_shelf in item:\n",
        "            count = 1\n",
        "            if values != []:\n",
        "                count = 2\n",
        "    if count == 1:\n",
        "        del directories[number_shelf]\n",
        "        print('Полка удалена. Текущий перечень полок: '+ list_shelf())\n",
        "    elif count == 2:\n",
        "        print('На полке есть документ, удалите их перед удалением полки. Текущий перечень полок: ' + list_shelf())\n",
        "    else:\n",
        "        print('Такая полка не существует. Текущий перечень полок: ' + list_shelf())"
      ],
      "metadata": {
        "id": "m4nhctQUoTEc"
      },
      "execution_count": null,
      "outputs": []
    },
    {
      "cell_type": "markdown",
      "source": [
        "Автоматизация"
      ],
      "metadata": {
        "id": "_LzlL8oDoaS-"
      }
    },
    {
      "cell_type": "code",
      "source": [
        "def main():\n",
        "    a = 0\n",
        "    while a < 1:\n",
        "        command_input=input('Введите команду: \\n')\n",
        "        if command_input == 'p':\n",
        "            number_input=input('Введите номер документа: \\n')\n",
        "            print(owner(number_input))\n",
        "        elif command_input == 's':\n",
        "            number_input=input('Введите номер документа: \\n')\n",
        "            print(doc_dir(number_input))\n",
        "        elif command_input == 'l':\n",
        "            list_doc()\n",
        "        elif command_input == 'as':\n",
        "            number_input=input('Введите номер полки: \\n')\n",
        "            add_shelf(number_input)\n",
        "        elif command_input == 'ds':\n",
        "            number_input=input('Введите номер полки: \\n')\n",
        "            del_shelf(number_input)\n",
        "        elif command_input == 'q':\n",
        "            break\n",
        "        else:\n",
        "            print('Нет такой команды')\n",
        "        print(documents)\n",
        "        print(directories)"
      ],
      "metadata": {
        "id": "CsvXY-DRoc69"
      },
      "execution_count": null,
      "outputs": []
    },
    {
      "cell_type": "code",
      "source": [
        "main()"
      ],
      "metadata": {
        "colab": {
          "base_uri": "https://localhost:8080/"
        },
        "id": "dfMEn71_sYDr",
        "outputId": "a6ebde7a-be6b-4f79-8da1-219039277479"
      },
      "execution_count": null,
      "outputs": [
        {
          "output_type": "stream",
          "name": "stdout",
          "text": [
            "Введите команду: \n",
            "p\n",
            "Введите номер документа: \n",
            "11-2\n",
            "Владелец документа: Геннадий Покемонов\n",
            "[{'type': 'passport', 'number': '2207 876234', 'name': 'Василий Гупкин'}, {'type': 'invoice', 'number': '11-2', 'name': 'Геннадий Покемонов'}, {'type': 'insurance', 'number': '10006', 'name': 'Аристарх Павлов'}]\n",
            "{'1': ['2207 876234', '11-2'], '2': ['10006'], '3': []}\n",
            "Введите команду: \n",
            "p\n",
            "Введите номер документа: \n",
            "10006\n",
            "Владелец документа: Аристарх Павлов\n",
            "[{'type': 'passport', 'number': '2207 876234', 'name': 'Василий Гупкин'}, {'type': 'invoice', 'number': '11-2', 'name': 'Геннадий Покемонов'}, {'type': 'insurance', 'number': '10006', 'name': 'Аристарх Павлов'}]\n",
            "{'1': ['2207 876234', '11-2'], '2': ['10006'], '3': []}\n",
            "Введите команду: \n",
            "p\n",
            "Введите номер документа: \n",
            "34\n",
            "Документ не найден в базе\n",
            "[{'type': 'passport', 'number': '2207 876234', 'name': 'Василий Гупкин'}, {'type': 'invoice', 'number': '11-2', 'name': 'Геннадий Покемонов'}, {'type': 'insurance', 'number': '10006', 'name': 'Аристарх Павлов'}]\n",
            "{'1': ['2207 876234', '11-2'], '2': ['10006'], '3': []}\n",
            "Введите команду: \n",
            "s\n",
            "Введите номер документа: \n",
            "34\n",
            "Документ не найден в базе\n",
            "[{'type': 'passport', 'number': '2207 876234', 'name': 'Василий Гупкин'}, {'type': 'invoice', 'number': '11-2', 'name': 'Геннадий Покемонов'}, {'type': 'insurance', 'number': '10006', 'name': 'Аристарх Павлов'}]\n",
            "{'1': ['2207 876234', '11-2'], '2': ['10006'], '3': []}\n",
            "Введите команду: \n",
            "s\n",
            "Введите номер документа: \n",
            "10006\n",
            "Документ хранится на полке: 2\n",
            "[{'type': 'passport', 'number': '2207 876234', 'name': 'Василий Гупкин'}, {'type': 'invoice', 'number': '11-2', 'name': 'Геннадий Покемонов'}, {'type': 'insurance', 'number': '10006', 'name': 'Аристарх Павлов'}]\n",
            "{'1': ['2207 876234', '11-2'], '2': ['10006'], '3': []}\n",
            "Введите команду: \n",
            "l\n",
            "№ 2207 876234, тип: passport, владелец: Василий Гупкин, полка хранения: 1\n",
            "№ 11-2, тип: invoice, владелец: Геннадий Покемонов, полка хранения: 1\n",
            "№ 10006, тип: insurance, владелец: Аристарх Павлов, полка хранения: 2\n",
            "[{'type': 'passport', 'number': '2207 876234', 'name': 'Василий Гупкин'}, {'type': 'invoice', 'number': '11-2', 'name': 'Геннадий Покемонов'}, {'type': 'insurance', 'number': '10006', 'name': 'Аристарх Павлов'}]\n",
            "{'1': ['2207 876234', '11-2'], '2': ['10006'], '3': []}\n",
            "Введите команду: \n",
            "ads\n",
            "Нет такой команды\n",
            "[{'type': 'passport', 'number': '2207 876234', 'name': 'Василий Гупкин'}, {'type': 'invoice', 'number': '11-2', 'name': 'Геннадий Покемонов'}, {'type': 'insurance', 'number': '10006', 'name': 'Аристарх Павлов'}]\n",
            "{'1': ['2207 876234', '11-2'], '2': ['10006'], '3': []}\n",
            "Введите команду: \n",
            "9\n",
            "Нет такой команды\n",
            "[{'type': 'passport', 'number': '2207 876234', 'name': 'Василий Гупкин'}, {'type': 'invoice', 'number': '11-2', 'name': 'Геннадий Покемонов'}, {'type': 'insurance', 'number': '10006', 'name': 'Аристарх Павлов'}]\n",
            "{'1': ['2207 876234', '11-2'], '2': ['10006'], '3': []}\n",
            "Введите команду: \n",
            "as\n",
            "Введите номер полки: \n",
            "9\n",
            "Полка добавлена. Текущий перечень полок: 1,2,3,9.\n",
            "[{'type': 'passport', 'number': '2207 876234', 'name': 'Василий Гупкин'}, {'type': 'invoice', 'number': '11-2', 'name': 'Геннадий Покемонов'}, {'type': 'insurance', 'number': '10006', 'name': 'Аристарх Павлов'}]\n",
            "{'1': ['2207 876234', '11-2'], '2': ['10006'], '3': [], '9': []}\n",
            "Введите команду: \n",
            "as\n",
            "Введите номер полки: \n",
            "1\n",
            "Такая полка уже существует. Текущий перечень полок: 1,2,3,9.\n",
            "[{'type': 'passport', 'number': '2207 876234', 'name': 'Василий Гупкин'}, {'type': 'invoice', 'number': '11-2', 'name': 'Геннадий Покемонов'}, {'type': 'insurance', 'number': '10006', 'name': 'Аристарх Павлов'}]\n",
            "{'1': ['2207 876234', '11-2'], '2': ['10006'], '3': [], '9': []}\n",
            "Введите команду: \n",
            "ds\n",
            "Введите номер полки: \n",
            "3\n",
            "Полка удалена. Текущий перечень полок: 1,2,9.\n",
            "[{'type': 'passport', 'number': '2207 876234', 'name': 'Василий Гупкин'}, {'type': 'invoice', 'number': '11-2', 'name': 'Геннадий Покемонов'}, {'type': 'insurance', 'number': '10006', 'name': 'Аристарх Павлов'}]\n",
            "{'1': ['2207 876234', '11-2'], '2': ['10006'], '9': []}\n",
            "Введите команду: \n",
            "ds\n",
            "Введите номер полки: \n",
            "1\n",
            "На полке есть документ, удалите их перед удалением полки. Текущий перечень полок: 1,2,9.\n",
            "[{'type': 'passport', 'number': '2207 876234', 'name': 'Василий Гупкин'}, {'type': 'invoice', 'number': '11-2', 'name': 'Геннадий Покемонов'}, {'type': 'insurance', 'number': '10006', 'name': 'Аристарх Павлов'}]\n",
            "{'1': ['2207 876234', '11-2'], '2': ['10006'], '9': []}\n",
            "Введите команду: \n",
            "ds\n",
            "Введите номер полки: \n",
            "2\n",
            "На полке есть документ, удалите их перед удалением полки. Текущий перечень полок: 1,2,9.\n",
            "[{'type': 'passport', 'number': '2207 876234', 'name': 'Василий Гупкин'}, {'type': 'invoice', 'number': '11-2', 'name': 'Геннадий Покемонов'}, {'type': 'insurance', 'number': '10006', 'name': 'Аристарх Павлов'}]\n",
            "{'1': ['2207 876234', '11-2'], '2': ['10006'], '9': []}\n",
            "Введите команду: \n",
            "ds\n",
            "Введите номер полки: \n",
            "9\n",
            "Полка удалена. Текущий перечень полок: 1,2.\n",
            "[{'type': 'passport', 'number': '2207 876234', 'name': 'Василий Гупкин'}, {'type': 'invoice', 'number': '11-2', 'name': 'Геннадий Покемонов'}, {'type': 'insurance', 'number': '10006', 'name': 'Аристарх Павлов'}]\n",
            "{'1': ['2207 876234', '11-2'], '2': ['10006']}\n"
          ]
        }
      ]
    }
  ],
  "metadata": {
    "colab": {
      "name": "Функции",
      "provenance": []
    },
    "kernelspec": {
      "display_name": "Python 3",
      "name": "python3"
    },
    "language_info": {
      "name": "python"
    }
  },
  "nbformat": 4,
  "nbformat_minor": 0
}