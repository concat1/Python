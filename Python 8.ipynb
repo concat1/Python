{
  "nbformat": 4,
  "nbformat_minor": 0,
  "metadata": {
    "colab": {
      "name": "Понятие класса.ipynb",
      "provenance": []
    },
    "kernelspec": {
      "name": "python3",
      "display_name": "Python 3"
    },
    "language_info": {
      "name": "python"
    }
  },
  "cells": [
    {
      "cell_type": "markdown",
      "source": [
        "Задание 1\n",
        "\n",
        "Напишите функцию, которая возвращает название валюты (поле ‘Name’) с максимальным значением курса с помощью сервиса www.cbr-xml-daily.ru...ly_json.js"
      ],
      "metadata": {
        "id": "fqYF_oC_oPPx"
      }
    },
    {
      "cell_type": "code",
      "source": [
        "import requests"
      ],
      "metadata": {
        "id": "ElYbcMTVoSAR"
      },
      "execution_count": null,
      "outputs": []
    },
    {
      "cell_type": "code",
      "source": [
        "class Rate:\n",
        "    def __init__(self, format_='value'):\n",
        "        self.format = format_\n",
        "    \n",
        "    def exchange_rates(self):\n",
        "        r = requests.get('https://www.cbr-xml-daily.ru/daily_json.js')\n",
        "        return r.json()['Valute']\n",
        "    \n",
        "    def make_format(self, currency):\n",
        "        response = self.exchange_rates()\n",
        "        \n",
        "        if currency in response:\n",
        "            if self.format == 'full':\n",
        "                return response[currency]\n",
        "            \n",
        "            if self.format == 'value':\n",
        "                return response[currency]['Value']\n",
        "        \n",
        "        return 'Error'\n",
        "    \n",
        "    def eur(self):\n",
        "                return self.make_format('EUR')\n",
        "    \n",
        "    def usd(self):\n",
        "                return self.make_format('USD')\n",
        "    \n",
        "    def brl(self):\n",
        "               return self.make_format('BRL')\n",
        "    \n",
        "    def max_cource(self):\n",
        "        response = self.exchange_rates()\n",
        "        max_course=0\n",
        "        for row in response.values():\n",
        "            value=row['Value']\n",
        "            if max_course<=value:\n",
        "                max_course=value\n",
        "                name=row['Name']\n",
        "        print(row['Name'], max_course)"
      ],
      "metadata": {
        "id": "7AGaVL2coVJB"
      },
      "execution_count": null,
      "outputs": []
    },
    {
      "cell_type": "code",
      "source": [
        "Rate().max_cource()"
      ],
      "metadata": {
        "colab": {
          "base_uri": "https://localhost:8080/"
        },
        "id": "-JsdLo4yp9zv",
        "outputId": "46c9218a-0ae1-41f5-da6a-e98330048838"
      },
      "execution_count": null,
      "outputs": [
        {
          "output_type": "stream",
          "name": "stdout",
          "text": [
            "Японских иен 109.7855\n"
          ]
        }
      ]
    },
    {
      "cell_type": "markdown",
      "source": [
        "Задание 2\n",
        "\n",
        "Добавьте в класс Rate параметр diff (со значениями True или False), который в случае значения True в методах курсов валют (eur, usd итд) будет возвращать не курс валюты, а изменение по сравнению в прошлым значением. Считайте, self.diff будет принимать значение True только при возврате значения курса. При отображении всей информации о валюте он не используется."
      ],
      "metadata": {
        "id": "6XLbItBbqBvk"
      }
    },
    {
      "cell_type": "code",
      "source": [
        "class Rate:\n",
        "    def __init__(self, format_='value', check='True'):\n",
        "        self.format = format_\n",
        "        self.check = check\n",
        "    \n",
        "    def exchange_rates(self):\n",
        "        r = requests.get('https://www.cbr-xml-daily.ru/daily_json.js')\n",
        "        return r.json()['Valute']\n",
        "    \n",
        "    def diff(self, check):\n",
        "        self.check=check\n",
        "    \n",
        "    def make_format(self, currency):\n",
        "        response = self.exchange_rates()\n",
        "        if currency in response:\n",
        "            if self.format == 'full':\n",
        "                return response[currency]            \n",
        "            if self.format == 'value':\n",
        "                if self.check=='True':\n",
        "                    difference=response[currency]['Previous']-response[currency]['Value']\n",
        "                    return difference\n",
        "                else:    \n",
        "                    return response[currency]['Value']\n",
        "        \n",
        "            return 'Error'\n",
        "    \n",
        "    def eur(self):\n",
        "        return self.make_format('EUR')\n",
        "    \n",
        "    def usd(self):\n",
        "        return self.make_format('USD')\n",
        "    \n",
        "    def brl(self):\n",
        "        return self.make_format('BRL')"
      ],
      "metadata": {
        "id": "wDrqSoUXqDwS"
      },
      "execution_count": null,
      "outputs": []
    },
    {
      "cell_type": "code",
      "source": [
        "Rate('value', 'False').eur()"
      ],
      "metadata": {
        "colab": {
          "base_uri": "https://localhost:8080/"
        },
        "id": "_0zqs5UBrI0R",
        "outputId": "a9676e8c-5f80-468f-97d7-3d5f17cc117c"
      },
      "execution_count": null,
      "outputs": [
        {
          "output_type": "execute_result",
          "data": {
            "text/plain": [
              "87.0715"
            ]
          },
          "metadata": {},
          "execution_count": 7
        }
      ]
    },
    {
      "cell_type": "markdown",
      "source": [
        "Задание 3\n",
        "\n",
        "Напишите класс Designer, который учитывает количество международных премий. Подсказки в коде занятия в разделе “Домашнее задание задача 3”."
      ],
      "metadata": {
        "id": "G-i72IObrquL"
      }
    },
    {
      "cell_type": "code",
      "source": [
        "class Employee:\n",
        "    def __init__(self, name, seniority, awards):\n",
        "        self.name = name\n",
        "        self.seniority = seniority\n",
        "        self.awards= awards        \n",
        "        self.grade = 1\n",
        "    \n",
        "    def grade_up(self):        \n",
        "        self.grade += 1\n",
        "    \n",
        "    def publish_grade(self):        \n",
        "        print(self.name, self.grade)\n",
        "class Developer(Employee):\n",
        "    def __init__(self, name, seniority, awards=0):\n",
        "        super().__init__(name, seniority, awards=0)\n",
        "    \n",
        "    def check_if_it_is_time_for_upgrade(self):        \n",
        "        self.seniority += 1                \n",
        "        if self.seniority % 5 == 0:\n",
        "            self.grade_up()                \n",
        "        return self.publish_grade()\n",
        "\n",
        "class Designer(Employee):\n",
        "    def __init__(self, name, seniority, awards):\n",
        "        super().__init__(name, seniority, awards)\n",
        "        \n",
        "    def check_if_it_is_time_for_upgrade(self):\n",
        "        if self.seniority==0: \n",
        "            self.seniority=1+self.awards*2\n",
        "        else:\n",
        "            self.seniority+=1\n",
        "        if self.seniority % 7==0:\n",
        "                self.grade_up()\n",
        "        \n",
        "        return self.publish_grade()"
      ],
      "metadata": {
        "id": "nZ8Xnv2YsLxb"
      },
      "execution_count": null,
      "outputs": []
    },
    {
      "cell_type": "code",
      "source": [
        "elena = Designer('Елена', seniority=0, awards=2)"
      ],
      "metadata": {
        "id": "lwPomspdskV-"
      },
      "execution_count": null,
      "outputs": []
    },
    {
      "cell_type": "code",
      "source": [
        "for i in range(20):\n",
        "    elena.check_if_it_is_time_for_upgrade()"
      ],
      "metadata": {
        "id": "DBcSO3TDsny7",
        "outputId": "5daa8645-772a-4d6a-ac5a-412cc45c99e3",
        "colab": {
          "base_uri": "https://localhost:8080/"
        }
      },
      "execution_count": null,
      "outputs": [
        {
          "output_type": "stream",
          "name": "stdout",
          "text": [
            "Елена 1\n",
            "Елена 1\n",
            "Елена 2\n",
            "Елена 2\n",
            "Елена 2\n",
            "Елена 2\n",
            "Елена 2\n",
            "Елена 2\n",
            "Елена 2\n",
            "Елена 3\n",
            "Елена 3\n",
            "Елена 3\n",
            "Елена 3\n",
            "Елена 3\n",
            "Елена 3\n",
            "Елена 3\n",
            "Елена 4\n",
            "Елена 4\n",
            "Елена 4\n",
            "Елена 4\n"
          ]
        }
      ]
    }
  ]
}